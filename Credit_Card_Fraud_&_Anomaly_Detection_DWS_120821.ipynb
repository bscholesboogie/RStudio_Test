{
  "cells": [
    {
      "cell_type": "markdown",
      "metadata": {
        "id": "view-in-github",
        "colab_type": "text"
      },
      "source": [
        "<a href=\"https://colab.research.google.com/github/bscholesboogie/RStudio_Test/blob/master/Credit_Card_Fraud_%26_Anomaly_Detection_DWS_120821.ipynb\" target=\"_parent\"><img src=\"https://colab.research.google.com/assets/colab-badge.svg\" alt=\"Open In Colab\"/></a>"
      ]
    },
    {
      "cell_type": "markdown",
      "metadata": {
        "id": "5hDZ2VBdXYvm"
      },
      "source": [
        "## Credit Card Fraud/Anomaly Detection (DecisionTrees, XGBoost, CNNs, and ANNs)"
      ]
    },
    {
      "cell_type": "markdown",
      "metadata": {
        "id": "nm2GgVWnXYvv"
      },
      "source": [
        "##### About the Data:"
      ]
    },
    {
      "cell_type": "markdown",
      "metadata": {
        "id": "CGmSXL8OXYvw"
      },
      "source": [
        "The datasets contains transactions made by credit cards in September 2013 by european cardholders.\n",
        "This dataset presents transactions that occurred in two days, where we have 492 frauds out of 284,807 transactions. The dataset is highly unbalanced, the positive class (frauds) account for 0.172% of all transactions.\n",
        "\n",
        "It contains only numerical input variables which are the result of a PCA transformation. Unfortunately, due to confidentiality issues, we cannot provide the original features and more background information about the data. Features V1, V2, … V28 are the principal components obtained with PCA, the only features which have not been transformed with PCA are 'Time' and 'Amount'. Feature 'Time' contains the seconds elapsed between each transaction and the first transaction in the dataset. The feature 'Amount' is the transaction Amount, this feature can be used for example-dependant cost-senstive learning. Feature 'Class' is the response variable and it takes value 1 in case of fraud and 0 otherwise."
      ]
    },
    {
      "cell_type": "markdown",
      "metadata": {
        "id": "7ApvOmV-XYvy"
      },
      "source": [
        "##### Objective:"
      ]
    },
    {
      "cell_type": "markdown",
      "metadata": {
        "id": "YBQD4_V1XYvz"
      },
      "source": [
        "To develop a classification model that can identify, with high certainty, whether a transaction is fradulent or not given the current dataset."
      ]
    },
    {
      "cell_type": "markdown",
      "metadata": {
        "id": "jAwUDgASXYv0"
      },
      "source": [
        "### 1. Import Libraries:"
      ]
    },
    {
      "cell_type": "code",
      "execution_count": 1,
      "metadata": {
        "id": "ZlDkhd08XYv1"
      },
      "outputs": [],
      "source": [
        "import pandas as pd\n",
        "import numpy as np\n",
        "\n",
        "import matplotlib.pyplot as plt\n",
        "import seaborn as sns\n",
        "sns.set_style(\"darkgrid\")"
      ]
    },
    {
      "cell_type": "markdown",
      "metadata": {
        "id": "r6OeZnwKXYv5"
      },
      "source": [
        "### 2. Import Data:"
      ]
    },
    {
      "cell_type": "code",
      "execution_count": 2,
      "metadata": {
        "colab": {
          "base_uri": "https://localhost:8080/",
          "height": 226
        },
        "id": "_6-pa7ISXYv7",
        "outputId": "e9837901-3491-478b-b26f-da9901ea30d5"
      },
      "outputs": [
        {
          "output_type": "execute_result",
          "data": {
            "text/html": [
              "<div>\n",
              "<style scoped>\n",
              "    .dataframe tbody tr th:only-of-type {\n",
              "        vertical-align: middle;\n",
              "    }\n",
              "\n",
              "    .dataframe tbody tr th {\n",
              "        vertical-align: top;\n",
              "    }\n",
              "\n",
              "    .dataframe thead th {\n",
              "        text-align: right;\n",
              "    }\n",
              "</style>\n",
              "<table border=\"1\" class=\"dataframe\">\n",
              "  <thead>\n",
              "    <tr style=\"text-align: right;\">\n",
              "      <th></th>\n",
              "      <th>Time</th>\n",
              "      <th>V1</th>\n",
              "      <th>V2</th>\n",
              "      <th>V3</th>\n",
              "      <th>V4</th>\n",
              "      <th>V5</th>\n",
              "      <th>V6</th>\n",
              "      <th>V7</th>\n",
              "      <th>V8</th>\n",
              "      <th>V9</th>\n",
              "      <th>V10</th>\n",
              "      <th>V11</th>\n",
              "      <th>V12</th>\n",
              "      <th>V13</th>\n",
              "      <th>V14</th>\n",
              "      <th>V15</th>\n",
              "      <th>V16</th>\n",
              "      <th>V17</th>\n",
              "      <th>V18</th>\n",
              "      <th>V19</th>\n",
              "      <th>V20</th>\n",
              "      <th>V21</th>\n",
              "      <th>V22</th>\n",
              "      <th>V23</th>\n",
              "      <th>V24</th>\n",
              "      <th>V25</th>\n",
              "      <th>V26</th>\n",
              "      <th>V27</th>\n",
              "      <th>V28</th>\n",
              "      <th>Amount</th>\n",
              "      <th>Class</th>\n",
              "    </tr>\n",
              "  </thead>\n",
              "  <tbody>\n",
              "    <tr>\n",
              "      <th>0</th>\n",
              "      <td>0</td>\n",
              "      <td>-1.359807</td>\n",
              "      <td>-0.072781</td>\n",
              "      <td>2.536347</td>\n",
              "      <td>1.378155</td>\n",
              "      <td>-0.338321</td>\n",
              "      <td>0.462388</td>\n",
              "      <td>0.239599</td>\n",
              "      <td>0.098698</td>\n",
              "      <td>0.363787</td>\n",
              "      <td>0.090794</td>\n",
              "      <td>-0.551600</td>\n",
              "      <td>-0.617801</td>\n",
              "      <td>-0.991390</td>\n",
              "      <td>-0.311169</td>\n",
              "      <td>1.468177</td>\n",
              "      <td>-0.470401</td>\n",
              "      <td>0.207971</td>\n",
              "      <td>0.025791</td>\n",
              "      <td>0.403993</td>\n",
              "      <td>0.251412</td>\n",
              "      <td>-0.018307</td>\n",
              "      <td>0.277838</td>\n",
              "      <td>-0.110474</td>\n",
              "      <td>0.066928</td>\n",
              "      <td>0.128539</td>\n",
              "      <td>-0.189115</td>\n",
              "      <td>0.133558</td>\n",
              "      <td>-0.021053</td>\n",
              "      <td>149.62</td>\n",
              "      <td>0.0</td>\n",
              "    </tr>\n",
              "    <tr>\n",
              "      <th>1</th>\n",
              "      <td>0</td>\n",
              "      <td>1.191857</td>\n",
              "      <td>0.266151</td>\n",
              "      <td>0.166480</td>\n",
              "      <td>0.448154</td>\n",
              "      <td>0.060018</td>\n",
              "      <td>-0.082361</td>\n",
              "      <td>-0.078803</td>\n",
              "      <td>0.085102</td>\n",
              "      <td>-0.255425</td>\n",
              "      <td>-0.166974</td>\n",
              "      <td>1.612727</td>\n",
              "      <td>1.065235</td>\n",
              "      <td>0.489095</td>\n",
              "      <td>-0.143772</td>\n",
              "      <td>0.635558</td>\n",
              "      <td>0.463917</td>\n",
              "      <td>-0.114805</td>\n",
              "      <td>-0.183361</td>\n",
              "      <td>-0.145783</td>\n",
              "      <td>-0.069083</td>\n",
              "      <td>-0.225775</td>\n",
              "      <td>-0.638672</td>\n",
              "      <td>0.101288</td>\n",
              "      <td>-0.339846</td>\n",
              "      <td>0.167170</td>\n",
              "      <td>0.125895</td>\n",
              "      <td>-0.008983</td>\n",
              "      <td>0.014724</td>\n",
              "      <td>2.69</td>\n",
              "      <td>0.0</td>\n",
              "    </tr>\n",
              "    <tr>\n",
              "      <th>2</th>\n",
              "      <td>1</td>\n",
              "      <td>-1.358354</td>\n",
              "      <td>-1.340163</td>\n",
              "      <td>1.773209</td>\n",
              "      <td>0.379780</td>\n",
              "      <td>-0.503198</td>\n",
              "      <td>1.800499</td>\n",
              "      <td>0.791461</td>\n",
              "      <td>0.247676</td>\n",
              "      <td>-1.514654</td>\n",
              "      <td>0.207643</td>\n",
              "      <td>0.624501</td>\n",
              "      <td>0.066084</td>\n",
              "      <td>0.717293</td>\n",
              "      <td>-0.165946</td>\n",
              "      <td>2.345865</td>\n",
              "      <td>-2.890083</td>\n",
              "      <td>1.109969</td>\n",
              "      <td>-0.121359</td>\n",
              "      <td>-2.261857</td>\n",
              "      <td>0.524980</td>\n",
              "      <td>0.247998</td>\n",
              "      <td>0.771679</td>\n",
              "      <td>0.909412</td>\n",
              "      <td>-0.689281</td>\n",
              "      <td>-0.327642</td>\n",
              "      <td>-0.139097</td>\n",
              "      <td>-0.055353</td>\n",
              "      <td>-0.059752</td>\n",
              "      <td>378.66</td>\n",
              "      <td>0.0</td>\n",
              "    </tr>\n",
              "    <tr>\n",
              "      <th>3</th>\n",
              "      <td>1</td>\n",
              "      <td>-0.966272</td>\n",
              "      <td>-0.185226</td>\n",
              "      <td>1.792993</td>\n",
              "      <td>-0.863291</td>\n",
              "      <td>-0.010309</td>\n",
              "      <td>1.247203</td>\n",
              "      <td>0.237609</td>\n",
              "      <td>0.377436</td>\n",
              "      <td>-1.387024</td>\n",
              "      <td>-0.054952</td>\n",
              "      <td>-0.226487</td>\n",
              "      <td>0.178228</td>\n",
              "      <td>0.507757</td>\n",
              "      <td>-0.287924</td>\n",
              "      <td>-0.631418</td>\n",
              "      <td>-1.059647</td>\n",
              "      <td>-0.684093</td>\n",
              "      <td>1.965775</td>\n",
              "      <td>-1.232622</td>\n",
              "      <td>-0.208038</td>\n",
              "      <td>-0.108300</td>\n",
              "      <td>0.005274</td>\n",
              "      <td>-0.190321</td>\n",
              "      <td>-1.175575</td>\n",
              "      <td>0.647376</td>\n",
              "      <td>-0.221929</td>\n",
              "      <td>0.062723</td>\n",
              "      <td>0.061458</td>\n",
              "      <td>123.50</td>\n",
              "      <td>0.0</td>\n",
              "    </tr>\n",
              "    <tr>\n",
              "      <th>4</th>\n",
              "      <td>2</td>\n",
              "      <td>-1.158233</td>\n",
              "      <td>0.877737</td>\n",
              "      <td>1.548718</td>\n",
              "      <td>0.403034</td>\n",
              "      <td>-0.407193</td>\n",
              "      <td>0.095921</td>\n",
              "      <td>0.592941</td>\n",
              "      <td>-0.270533</td>\n",
              "      <td>0.817739</td>\n",
              "      <td>0.753074</td>\n",
              "      <td>-0.822843</td>\n",
              "      <td>0.538196</td>\n",
              "      <td>1.345852</td>\n",
              "      <td>-1.119670</td>\n",
              "      <td>0.175121</td>\n",
              "      <td>-0.451449</td>\n",
              "      <td>-0.237033</td>\n",
              "      <td>-0.038195</td>\n",
              "      <td>0.803487</td>\n",
              "      <td>0.408542</td>\n",
              "      <td>-0.009431</td>\n",
              "      <td>0.798278</td>\n",
              "      <td>-0.137458</td>\n",
              "      <td>0.141267</td>\n",
              "      <td>-0.206010</td>\n",
              "      <td>0.502292</td>\n",
              "      <td>0.219422</td>\n",
              "      <td>0.215153</td>\n",
              "      <td>69.99</td>\n",
              "      <td>0.0</td>\n",
              "    </tr>\n",
              "  </tbody>\n",
              "</table>\n",
              "</div>"
            ],
            "text/plain": [
              "   Time        V1        V2        V3  ...       V27       V28  Amount  Class\n",
              "0     0 -1.359807 -0.072781  2.536347  ...  0.133558 -0.021053  149.62    0.0\n",
              "1     0  1.191857  0.266151  0.166480  ... -0.008983  0.014724    2.69    0.0\n",
              "2     1 -1.358354 -1.340163  1.773209  ... -0.055353 -0.059752  378.66    0.0\n",
              "3     1 -0.966272 -0.185226  1.792993  ...  0.062723  0.061458  123.50    0.0\n",
              "4     2 -1.158233  0.877737  1.548718  ...  0.219422  0.215153   69.99    0.0\n",
              "\n",
              "[5 rows x 31 columns]"
            ]
          },
          "metadata": {},
          "execution_count": 2
        }
      ],
      "source": [
        "df = pd.read_csv(\"creditcard.csv\")\n",
        "df.head()"
      ]
    },
    {
      "cell_type": "markdown",
      "metadata": {
        "id": "_pnCaVDoXYv_"
      },
      "source": [
        "### 3. Exploratory Data Analysis:"
      ]
    },
    {
      "cell_type": "code",
      "execution_count": 3,
      "metadata": {
        "colab": {
          "base_uri": "https://localhost:8080/"
        },
        "id": "SKyxLyc2XYwB",
        "outputId": "2866ed8e-beba-4e3d-81cf-6078bb25f1e0"
      },
      "outputs": [
        {
          "output_type": "execute_result",
          "data": {
            "text/plain": [
              "(25838, 31)"
            ]
          },
          "metadata": {},
          "execution_count": 3
        }
      ],
      "source": [
        "df.shape"
      ]
    },
    {
      "cell_type": "code",
      "execution_count": 7,
      "metadata": {
        "scrolled": false,
        "colab": {
          "base_uri": "https://localhost:8080/"
        },
        "id": "31vx7XJDXYwC",
        "outputId": "ebade71d-22e5-4dce-b1cc-851275504569"
      },
      "outputs": [
        {
          "output_type": "execute_result",
          "data": {
            "text/plain": [
              "Index(['Time', 'V1', 'V2', 'V3', 'V4', 'V5', 'V6', 'V7', 'V8', 'V9', 'V10',\n",
              "       'V11', 'V12', 'V13', 'V14', 'V15', 'V16', 'V17', 'V18', 'V19', 'V20',\n",
              "       'V21', 'V22', 'V23', 'V24', 'V25', 'V26', 'V27', 'V28', 'Amount',\n",
              "       'Class'],\n",
              "      dtype='object')"
            ]
          },
          "metadata": {},
          "execution_count": 7
        }
      ],
      "source": [
        "df.columns"
      ]
    },
    {
      "cell_type": "code",
      "execution_count": 8,
      "metadata": {
        "scrolled": true,
        "colab": {
          "base_uri": "https://localhost:8080/",
          "height": 320
        },
        "id": "RGlgOwjCXYwD",
        "outputId": "0094e156-9bc3-425b-af75-e9ad8dd716ed"
      },
      "outputs": [
        {
          "output_type": "execute_result",
          "data": {
            "text/html": [
              "<div>\n",
              "<style scoped>\n",
              "    .dataframe tbody tr th:only-of-type {\n",
              "        vertical-align: middle;\n",
              "    }\n",
              "\n",
              "    .dataframe tbody tr th {\n",
              "        vertical-align: top;\n",
              "    }\n",
              "\n",
              "    .dataframe thead th {\n",
              "        text-align: right;\n",
              "    }\n",
              "</style>\n",
              "<table border=\"1\" class=\"dataframe\">\n",
              "  <thead>\n",
              "    <tr style=\"text-align: right;\">\n",
              "      <th></th>\n",
              "      <th>Time</th>\n",
              "      <th>V1</th>\n",
              "      <th>V2</th>\n",
              "      <th>V3</th>\n",
              "      <th>V4</th>\n",
              "      <th>V5</th>\n",
              "      <th>V6</th>\n",
              "      <th>V7</th>\n",
              "      <th>V8</th>\n",
              "      <th>V9</th>\n",
              "      <th>V10</th>\n",
              "      <th>V11</th>\n",
              "      <th>V12</th>\n",
              "      <th>V13</th>\n",
              "      <th>V14</th>\n",
              "      <th>V15</th>\n",
              "      <th>V16</th>\n",
              "      <th>V17</th>\n",
              "      <th>V18</th>\n",
              "      <th>V19</th>\n",
              "      <th>V20</th>\n",
              "      <th>V21</th>\n",
              "      <th>V22</th>\n",
              "      <th>V23</th>\n",
              "      <th>V24</th>\n",
              "      <th>V25</th>\n",
              "      <th>V26</th>\n",
              "      <th>V27</th>\n",
              "      <th>V28</th>\n",
              "      <th>Amount</th>\n",
              "      <th>Class</th>\n",
              "    </tr>\n",
              "  </thead>\n",
              "  <tbody>\n",
              "    <tr>\n",
              "      <th>count</th>\n",
              "      <td>45646.000000</td>\n",
              "      <td>45646.000000</td>\n",
              "      <td>45646.000000</td>\n",
              "      <td>45646.000000</td>\n",
              "      <td>45646.000000</td>\n",
              "      <td>45646.000000</td>\n",
              "      <td>45645.000000</td>\n",
              "      <td>45645.000000</td>\n",
              "      <td>45645.000000</td>\n",
              "      <td>45645.000000</td>\n",
              "      <td>45645.000000</td>\n",
              "      <td>45645.000000</td>\n",
              "      <td>45645.000000</td>\n",
              "      <td>45645.000000</td>\n",
              "      <td>45645.000000</td>\n",
              "      <td>45645.000000</td>\n",
              "      <td>45645.000000</td>\n",
              "      <td>45645.000000</td>\n",
              "      <td>45645.000000</td>\n",
              "      <td>45645.000000</td>\n",
              "      <td>45645.000000</td>\n",
              "      <td>45645.000000</td>\n",
              "      <td>45645.000000</td>\n",
              "      <td>45645.000000</td>\n",
              "      <td>45645.000000</td>\n",
              "      <td>45645.000000</td>\n",
              "      <td>45645.000000</td>\n",
              "      <td>45645.000000</td>\n",
              "      <td>45645.000000</td>\n",
              "      <td>45645.000000</td>\n",
              "      <td>45645.000000</td>\n",
              "    </tr>\n",
              "    <tr>\n",
              "      <th>mean</th>\n",
              "      <td>27545.441331</td>\n",
              "      <td>-0.237544</td>\n",
              "      <td>0.028942</td>\n",
              "      <td>0.696718</td>\n",
              "      <td>0.191505</td>\n",
              "      <td>-0.248407</td>\n",
              "      <td>0.098588</td>\n",
              "      <td>-0.117937</td>\n",
              "      <td>0.053331</td>\n",
              "      <td>0.157893</td>\n",
              "      <td>-0.066674</td>\n",
              "      <td>0.392049</td>\n",
              "      <td>-0.388513</td>\n",
              "      <td>0.190240</td>\n",
              "      <td>0.190406</td>\n",
              "      <td>0.112520</td>\n",
              "      <td>-0.012761</td>\n",
              "      <td>0.122303</td>\n",
              "      <td>-0.097736</td>\n",
              "      <td>-0.028032</td>\n",
              "      <td>0.047654</td>\n",
              "      <td>-0.027098</td>\n",
              "      <td>-0.108684</td>\n",
              "      <td>-0.039060</td>\n",
              "      <td>0.009358</td>\n",
              "      <td>0.136697</td>\n",
              "      <td>0.022305</td>\n",
              "      <td>0.005524</td>\n",
              "      <td>0.004641</td>\n",
              "      <td>90.829574</td>\n",
              "      <td>0.003111</td>\n",
              "    </tr>\n",
              "    <tr>\n",
              "      <th>std</th>\n",
              "      <td>12907.770469</td>\n",
              "      <td>1.886548</td>\n",
              "      <td>1.613070</td>\n",
              "      <td>1.530553</td>\n",
              "      <td>1.403936</td>\n",
              "      <td>1.414608</td>\n",
              "      <td>1.308548</td>\n",
              "      <td>1.282818</td>\n",
              "      <td>1.210502</td>\n",
              "      <td>1.222268</td>\n",
              "      <td>1.160413</td>\n",
              "      <td>1.127217</td>\n",
              "      <td>1.369284</td>\n",
              "      <td>1.130548</td>\n",
              "      <td>1.148279</td>\n",
              "      <td>0.952296</td>\n",
              "      <td>0.959830</td>\n",
              "      <td>1.137048</td>\n",
              "      <td>0.876052</td>\n",
              "      <td>0.820484</td>\n",
              "      <td>0.706848</td>\n",
              "      <td>0.733323</td>\n",
              "      <td>0.636670</td>\n",
              "      <td>0.572037</td>\n",
              "      <td>0.592176</td>\n",
              "      <td>0.437824</td>\n",
              "      <td>0.502716</td>\n",
              "      <td>0.389241</td>\n",
              "      <td>0.338798</td>\n",
              "      <td>240.298594</td>\n",
              "      <td>0.055690</td>\n",
              "    </tr>\n",
              "    <tr>\n",
              "      <th>min</th>\n",
              "      <td>0.000000</td>\n",
              "      <td>-56.407510</td>\n",
              "      <td>-72.715728</td>\n",
              "      <td>-32.965346</td>\n",
              "      <td>-5.172595</td>\n",
              "      <td>-42.147898</td>\n",
              "      <td>-26.160506</td>\n",
              "      <td>-26.548144</td>\n",
              "      <td>-41.484823</td>\n",
              "      <td>-9.283925</td>\n",
              "      <td>-18.271168</td>\n",
              "      <td>-4.049895</td>\n",
              "      <td>-17.769143</td>\n",
              "      <td>-3.844974</td>\n",
              "      <td>-19.214325</td>\n",
              "      <td>-4.152532</td>\n",
              "      <td>-13.563273</td>\n",
              "      <td>-25.162799</td>\n",
              "      <td>-9.498746</td>\n",
              "      <td>-4.932733</td>\n",
              "      <td>-13.694584</td>\n",
              "      <td>-20.262054</td>\n",
              "      <td>-8.593642</td>\n",
              "      <td>-26.751119</td>\n",
              "      <td>-2.836627</td>\n",
              "      <td>-7.495741</td>\n",
              "      <td>-1.438650</td>\n",
              "      <td>-8.567638</td>\n",
              "      <td>-9.617915</td>\n",
              "      <td>0.000000</td>\n",
              "      <td>0.000000</td>\n",
              "    </tr>\n",
              "    <tr>\n",
              "      <th>25%</th>\n",
              "      <td>19891.000000</td>\n",
              "      <td>-0.985248</td>\n",
              "      <td>-0.543868</td>\n",
              "      <td>0.222804</td>\n",
              "      <td>-0.714566</td>\n",
              "      <td>-0.853436</td>\n",
              "      <td>-0.638480</td>\n",
              "      <td>-0.600071</td>\n",
              "      <td>-0.148358</td>\n",
              "      <td>-0.589301</td>\n",
              "      <td>-0.540214</td>\n",
              "      <td>-0.422694</td>\n",
              "      <td>-1.073812</td>\n",
              "      <td>-0.567194</td>\n",
              "      <td>-0.281019</td>\n",
              "      <td>-0.447023</td>\n",
              "      <td>-0.496083</td>\n",
              "      <td>-0.355111</td>\n",
              "      <td>-0.572671</td>\n",
              "      <td>-0.523393</td>\n",
              "      <td>-0.164539</td>\n",
              "      <td>-0.232743</td>\n",
              "      <td>-0.529609</td>\n",
              "      <td>-0.179136</td>\n",
              "      <td>-0.322003</td>\n",
              "      <td>-0.128065</td>\n",
              "      <td>-0.329709</td>\n",
              "      <td>-0.063670</td>\n",
              "      <td>-0.006837</td>\n",
              "      <td>7.580000</td>\n",
              "      <td>0.000000</td>\n",
              "    </tr>\n",
              "    <tr>\n",
              "      <th>50%</th>\n",
              "      <td>32447.000000</td>\n",
              "      <td>-0.246259</td>\n",
              "      <td>0.088873</td>\n",
              "      <td>0.801638</td>\n",
              "      <td>0.191835</td>\n",
              "      <td>-0.280620</td>\n",
              "      <td>-0.155353</td>\n",
              "      <td>-0.073143</td>\n",
              "      <td>0.054815</td>\n",
              "      <td>0.038334</td>\n",
              "      <td>-0.120734</td>\n",
              "      <td>0.356045</td>\n",
              "      <td>-0.056745</td>\n",
              "      <td>0.128453</td>\n",
              "      <td>0.168087</td>\n",
              "      <td>0.227726</td>\n",
              "      <td>0.057563</td>\n",
              "      <td>0.072874</td>\n",
              "      <td>-0.078118</td>\n",
              "      <td>-0.031193</td>\n",
              "      <td>-0.022586</td>\n",
              "      <td>-0.070241</td>\n",
              "      <td>-0.083448</td>\n",
              "      <td>-0.051304</td>\n",
              "      <td>0.062230</td>\n",
              "      <td>0.175771</td>\n",
              "      <td>-0.067778</td>\n",
              "      <td>0.008425</td>\n",
              "      <td>0.021814</td>\n",
              "      <td>24.990000</td>\n",
              "      <td>0.000000</td>\n",
              "    </tr>\n",
              "    <tr>\n",
              "      <th>75%</th>\n",
              "      <td>37571.750000</td>\n",
              "      <td>1.157412</td>\n",
              "      <td>0.739723</td>\n",
              "      <td>1.434911</td>\n",
              "      <td>1.070924</td>\n",
              "      <td>0.287608</td>\n",
              "      <td>0.487645</td>\n",
              "      <td>0.429944</td>\n",
              "      <td>0.324345</td>\n",
              "      <td>0.859738</td>\n",
              "      <td>0.393128</td>\n",
              "      <td>1.181320</td>\n",
              "      <td>0.522825</td>\n",
              "      <td>0.912665</td>\n",
              "      <td>0.719698</td>\n",
              "      <td>0.791440</td>\n",
              "      <td>0.553232</td>\n",
              "      <td>0.554140</td>\n",
              "      <td>0.399730</td>\n",
              "      <td>0.480084</td>\n",
              "      <td>0.170528</td>\n",
              "      <td>0.105614</td>\n",
              "      <td>0.303459</td>\n",
              "      <td>0.077905</td>\n",
              "      <td>0.401392</td>\n",
              "      <td>0.421857</td>\n",
              "      <td>0.302819</td>\n",
              "      <td>0.084017</td>\n",
              "      <td>0.076209</td>\n",
              "      <td>82.600000</td>\n",
              "      <td>0.000000</td>\n",
              "    </tr>\n",
              "    <tr>\n",
              "      <th>max</th>\n",
              "      <td>42437.000000</td>\n",
              "      <td>1.960497</td>\n",
              "      <td>18.183626</td>\n",
              "      <td>4.101716</td>\n",
              "      <td>16.491217</td>\n",
              "      <td>34.801666</td>\n",
              "      <td>22.529298</td>\n",
              "      <td>36.677268</td>\n",
              "      <td>20.007208</td>\n",
              "      <td>10.392889</td>\n",
              "      <td>13.198226</td>\n",
              "      <td>12.018913</td>\n",
              "      <td>4.846452</td>\n",
              "      <td>4.465413</td>\n",
              "      <td>7.692209</td>\n",
              "      <td>5.784514</td>\n",
              "      <td>6.098529</td>\n",
              "      <td>9.253526</td>\n",
              "      <td>4.295648</td>\n",
              "      <td>5.228342</td>\n",
              "      <td>17.281859</td>\n",
              "      <td>22.614889</td>\n",
              "      <td>5.805795</td>\n",
              "      <td>17.297845</td>\n",
              "      <td>4.014444</td>\n",
              "      <td>5.525093</td>\n",
              "      <td>3.517346</td>\n",
              "      <td>11.135740</td>\n",
              "      <td>33.847808</td>\n",
              "      <td>7879.420000</td>\n",
              "      <td>1.000000</td>\n",
              "    </tr>\n",
              "  </tbody>\n",
              "</table>\n",
              "</div>"
            ],
            "text/plain": [
              "               Time            V1  ...        Amount         Class\n",
              "count  45646.000000  45646.000000  ...  45645.000000  45645.000000\n",
              "mean   27545.441331     -0.237544  ...     90.829574      0.003111\n",
              "std    12907.770469      1.886548  ...    240.298594      0.055690\n",
              "min        0.000000    -56.407510  ...      0.000000      0.000000\n",
              "25%    19891.000000     -0.985248  ...      7.580000      0.000000\n",
              "50%    32447.000000     -0.246259  ...     24.990000      0.000000\n",
              "75%    37571.750000      1.157412  ...     82.600000      0.000000\n",
              "max    42437.000000      1.960497  ...   7879.420000      1.000000\n",
              "\n",
              "[8 rows x 31 columns]"
            ]
          },
          "metadata": {},
          "execution_count": 8
        }
      ],
      "source": [
        "df.describe()"
      ]
    },
    {
      "cell_type": "code",
      "execution_count": 9,
      "metadata": {
        "colab": {
          "base_uri": "https://localhost:8080/"
        },
        "id": "jHTfXKVPXYwE",
        "outputId": "8050f2a5-2a75-4963-a1e1-1e91b0c7f45b"
      },
      "outputs": [
        {
          "output_type": "stream",
          "name": "stdout",
          "text": [
            "<class 'pandas.core.frame.DataFrame'>\n",
            "RangeIndex: 45646 entries, 0 to 45645\n",
            "Data columns (total 31 columns):\n",
            " #   Column  Non-Null Count  Dtype  \n",
            "---  ------  --------------  -----  \n",
            " 0   Time    45646 non-null  int64  \n",
            " 1   V1      45646 non-null  float64\n",
            " 2   V2      45646 non-null  float64\n",
            " 3   V3      45646 non-null  float64\n",
            " 4   V4      45646 non-null  float64\n",
            " 5   V5      45646 non-null  float64\n",
            " 6   V6      45645 non-null  float64\n",
            " 7   V7      45645 non-null  float64\n",
            " 8   V8      45645 non-null  float64\n",
            " 9   V9      45645 non-null  float64\n",
            " 10  V10     45645 non-null  float64\n",
            " 11  V11     45645 non-null  float64\n",
            " 12  V12     45645 non-null  float64\n",
            " 13  V13     45645 non-null  float64\n",
            " 14  V14     45645 non-null  float64\n",
            " 15  V15     45645 non-null  float64\n",
            " 16  V16     45645 non-null  float64\n",
            " 17  V17     45645 non-null  float64\n",
            " 18  V18     45645 non-null  float64\n",
            " 19  V19     45645 non-null  float64\n",
            " 20  V20     45645 non-null  float64\n",
            " 21  V21     45645 non-null  float64\n",
            " 22  V22     45645 non-null  float64\n",
            " 23  V23     45645 non-null  float64\n",
            " 24  V24     45645 non-null  float64\n",
            " 25  V25     45645 non-null  float64\n",
            " 26  V26     45645 non-null  float64\n",
            " 27  V27     45645 non-null  float64\n",
            " 28  V28     45645 non-null  float64\n",
            " 29  Amount  45645 non-null  float64\n",
            " 30  Class   45645 non-null  float64\n",
            "dtypes: float64(30), int64(1)\n",
            "memory usage: 10.8 MB\n"
          ]
        }
      ],
      "source": [
        "df.info()"
      ]
    },
    {
      "cell_type": "code",
      "execution_count": 10,
      "metadata": {
        "colab": {
          "base_uri": "https://localhost:8080/"
        },
        "id": "OHu7iTSuXYwF",
        "outputId": "1529f37a-5632-4520-e152-96170da963ed"
      },
      "outputs": [
        {
          "output_type": "execute_result",
          "data": {
            "text/plain": [
              "Time      0\n",
              "V1        0\n",
              "V2        0\n",
              "V3        0\n",
              "V4        0\n",
              "V5        0\n",
              "V6        1\n",
              "V7        1\n",
              "V8        1\n",
              "V9        1\n",
              "V10       1\n",
              "V11       1\n",
              "V12       1\n",
              "V13       1\n",
              "V14       1\n",
              "V15       1\n",
              "V16       1\n",
              "V17       1\n",
              "V18       1\n",
              "V19       1\n",
              "V20       1\n",
              "V21       1\n",
              "V22       1\n",
              "V23       1\n",
              "V24       1\n",
              "V25       1\n",
              "V26       1\n",
              "V27       1\n",
              "V28       1\n",
              "Amount    1\n",
              "Class     1\n",
              "dtype: int64"
            ]
          },
          "metadata": {},
          "execution_count": 10
        }
      ],
      "source": [
        "df.isnull().sum()"
      ]
    },
    {
      "cell_type": "code",
      "source": [
        "# Since there is at most 1 NaN per column, we replace NaN with zero\n",
        "df.fillna(0)"
      ],
      "metadata": {
        "colab": {
          "base_uri": "https://localhost:8080/",
          "height": 443
        },
        "id": "vVsS5FErYQak",
        "outputId": "43ce4f51-02db-468b-c10d-e2ac0866e6b4"
      },
      "execution_count": 11,
      "outputs": [
        {
          "output_type": "execute_result",
          "data": {
            "text/html": [
              "<div>\n",
              "<style scoped>\n",
              "    .dataframe tbody tr th:only-of-type {\n",
              "        vertical-align: middle;\n",
              "    }\n",
              "\n",
              "    .dataframe tbody tr th {\n",
              "        vertical-align: top;\n",
              "    }\n",
              "\n",
              "    .dataframe thead th {\n",
              "        text-align: right;\n",
              "    }\n",
              "</style>\n",
              "<table border=\"1\" class=\"dataframe\">\n",
              "  <thead>\n",
              "    <tr style=\"text-align: right;\">\n",
              "      <th></th>\n",
              "      <th>Time</th>\n",
              "      <th>V1</th>\n",
              "      <th>V2</th>\n",
              "      <th>V3</th>\n",
              "      <th>V4</th>\n",
              "      <th>V5</th>\n",
              "      <th>V6</th>\n",
              "      <th>V7</th>\n",
              "      <th>V8</th>\n",
              "      <th>V9</th>\n",
              "      <th>V10</th>\n",
              "      <th>V11</th>\n",
              "      <th>V12</th>\n",
              "      <th>V13</th>\n",
              "      <th>V14</th>\n",
              "      <th>V15</th>\n",
              "      <th>V16</th>\n",
              "      <th>V17</th>\n",
              "      <th>V18</th>\n",
              "      <th>V19</th>\n",
              "      <th>V20</th>\n",
              "      <th>V21</th>\n",
              "      <th>V22</th>\n",
              "      <th>V23</th>\n",
              "      <th>V24</th>\n",
              "      <th>V25</th>\n",
              "      <th>V26</th>\n",
              "      <th>V27</th>\n",
              "      <th>V28</th>\n",
              "      <th>Amount</th>\n",
              "      <th>Class</th>\n",
              "    </tr>\n",
              "  </thead>\n",
              "  <tbody>\n",
              "    <tr>\n",
              "      <th>0</th>\n",
              "      <td>0</td>\n",
              "      <td>-1.359807</td>\n",
              "      <td>-0.072781</td>\n",
              "      <td>2.536347</td>\n",
              "      <td>1.378155</td>\n",
              "      <td>-0.338321</td>\n",
              "      <td>0.462388</td>\n",
              "      <td>0.239599</td>\n",
              "      <td>0.098698</td>\n",
              "      <td>0.363787</td>\n",
              "      <td>0.090794</td>\n",
              "      <td>-0.551600</td>\n",
              "      <td>-0.617801</td>\n",
              "      <td>-0.991390</td>\n",
              "      <td>-0.311169</td>\n",
              "      <td>1.468177</td>\n",
              "      <td>-0.470401</td>\n",
              "      <td>0.207971</td>\n",
              "      <td>0.025791</td>\n",
              "      <td>0.403993</td>\n",
              "      <td>0.251412</td>\n",
              "      <td>-0.018307</td>\n",
              "      <td>0.277838</td>\n",
              "      <td>-0.110474</td>\n",
              "      <td>0.066928</td>\n",
              "      <td>0.128539</td>\n",
              "      <td>-0.189115</td>\n",
              "      <td>0.133558</td>\n",
              "      <td>-0.021053</td>\n",
              "      <td>149.62</td>\n",
              "      <td>0.0</td>\n",
              "    </tr>\n",
              "    <tr>\n",
              "      <th>1</th>\n",
              "      <td>0</td>\n",
              "      <td>1.191857</td>\n",
              "      <td>0.266151</td>\n",
              "      <td>0.166480</td>\n",
              "      <td>0.448154</td>\n",
              "      <td>0.060018</td>\n",
              "      <td>-0.082361</td>\n",
              "      <td>-0.078803</td>\n",
              "      <td>0.085102</td>\n",
              "      <td>-0.255425</td>\n",
              "      <td>-0.166974</td>\n",
              "      <td>1.612727</td>\n",
              "      <td>1.065235</td>\n",
              "      <td>0.489095</td>\n",
              "      <td>-0.143772</td>\n",
              "      <td>0.635558</td>\n",
              "      <td>0.463917</td>\n",
              "      <td>-0.114805</td>\n",
              "      <td>-0.183361</td>\n",
              "      <td>-0.145783</td>\n",
              "      <td>-0.069083</td>\n",
              "      <td>-0.225775</td>\n",
              "      <td>-0.638672</td>\n",
              "      <td>0.101288</td>\n",
              "      <td>-0.339846</td>\n",
              "      <td>0.167170</td>\n",
              "      <td>0.125895</td>\n",
              "      <td>-0.008983</td>\n",
              "      <td>0.014724</td>\n",
              "      <td>2.69</td>\n",
              "      <td>0.0</td>\n",
              "    </tr>\n",
              "    <tr>\n",
              "      <th>2</th>\n",
              "      <td>1</td>\n",
              "      <td>-1.358354</td>\n",
              "      <td>-1.340163</td>\n",
              "      <td>1.773209</td>\n",
              "      <td>0.379780</td>\n",
              "      <td>-0.503198</td>\n",
              "      <td>1.800499</td>\n",
              "      <td>0.791461</td>\n",
              "      <td>0.247676</td>\n",
              "      <td>-1.514654</td>\n",
              "      <td>0.207643</td>\n",
              "      <td>0.624501</td>\n",
              "      <td>0.066084</td>\n",
              "      <td>0.717293</td>\n",
              "      <td>-0.165946</td>\n",
              "      <td>2.345865</td>\n",
              "      <td>-2.890083</td>\n",
              "      <td>1.109969</td>\n",
              "      <td>-0.121359</td>\n",
              "      <td>-2.261857</td>\n",
              "      <td>0.524980</td>\n",
              "      <td>0.247998</td>\n",
              "      <td>0.771679</td>\n",
              "      <td>0.909412</td>\n",
              "      <td>-0.689281</td>\n",
              "      <td>-0.327642</td>\n",
              "      <td>-0.139097</td>\n",
              "      <td>-0.055353</td>\n",
              "      <td>-0.059752</td>\n",
              "      <td>378.66</td>\n",
              "      <td>0.0</td>\n",
              "    </tr>\n",
              "    <tr>\n",
              "      <th>3</th>\n",
              "      <td>1</td>\n",
              "      <td>-0.966272</td>\n",
              "      <td>-0.185226</td>\n",
              "      <td>1.792993</td>\n",
              "      <td>-0.863291</td>\n",
              "      <td>-0.010309</td>\n",
              "      <td>1.247203</td>\n",
              "      <td>0.237609</td>\n",
              "      <td>0.377436</td>\n",
              "      <td>-1.387024</td>\n",
              "      <td>-0.054952</td>\n",
              "      <td>-0.226487</td>\n",
              "      <td>0.178228</td>\n",
              "      <td>0.507757</td>\n",
              "      <td>-0.287924</td>\n",
              "      <td>-0.631418</td>\n",
              "      <td>-1.059647</td>\n",
              "      <td>-0.684093</td>\n",
              "      <td>1.965775</td>\n",
              "      <td>-1.232622</td>\n",
              "      <td>-0.208038</td>\n",
              "      <td>-0.108300</td>\n",
              "      <td>0.005274</td>\n",
              "      <td>-0.190321</td>\n",
              "      <td>-1.175575</td>\n",
              "      <td>0.647376</td>\n",
              "      <td>-0.221929</td>\n",
              "      <td>0.062723</td>\n",
              "      <td>0.061458</td>\n",
              "      <td>123.50</td>\n",
              "      <td>0.0</td>\n",
              "    </tr>\n",
              "    <tr>\n",
              "      <th>4</th>\n",
              "      <td>2</td>\n",
              "      <td>-1.158233</td>\n",
              "      <td>0.877737</td>\n",
              "      <td>1.548718</td>\n",
              "      <td>0.403034</td>\n",
              "      <td>-0.407193</td>\n",
              "      <td>0.095921</td>\n",
              "      <td>0.592941</td>\n",
              "      <td>-0.270533</td>\n",
              "      <td>0.817739</td>\n",
              "      <td>0.753074</td>\n",
              "      <td>-0.822843</td>\n",
              "      <td>0.538196</td>\n",
              "      <td>1.345852</td>\n",
              "      <td>-1.119670</td>\n",
              "      <td>0.175121</td>\n",
              "      <td>-0.451449</td>\n",
              "      <td>-0.237033</td>\n",
              "      <td>-0.038195</td>\n",
              "      <td>0.803487</td>\n",
              "      <td>0.408542</td>\n",
              "      <td>-0.009431</td>\n",
              "      <td>0.798278</td>\n",
              "      <td>-0.137458</td>\n",
              "      <td>0.141267</td>\n",
              "      <td>-0.206010</td>\n",
              "      <td>0.502292</td>\n",
              "      <td>0.219422</td>\n",
              "      <td>0.215153</td>\n",
              "      <td>69.99</td>\n",
              "      <td>0.0</td>\n",
              "    </tr>\n",
              "    <tr>\n",
              "      <th>...</th>\n",
              "      <td>...</td>\n",
              "      <td>...</td>\n",
              "      <td>...</td>\n",
              "      <td>...</td>\n",
              "      <td>...</td>\n",
              "      <td>...</td>\n",
              "      <td>...</td>\n",
              "      <td>...</td>\n",
              "      <td>...</td>\n",
              "      <td>...</td>\n",
              "      <td>...</td>\n",
              "      <td>...</td>\n",
              "      <td>...</td>\n",
              "      <td>...</td>\n",
              "      <td>...</td>\n",
              "      <td>...</td>\n",
              "      <td>...</td>\n",
              "      <td>...</td>\n",
              "      <td>...</td>\n",
              "      <td>...</td>\n",
              "      <td>...</td>\n",
              "      <td>...</td>\n",
              "      <td>...</td>\n",
              "      <td>...</td>\n",
              "      <td>...</td>\n",
              "      <td>...</td>\n",
              "      <td>...</td>\n",
              "      <td>...</td>\n",
              "      <td>...</td>\n",
              "      <td>...</td>\n",
              "      <td>...</td>\n",
              "    </tr>\n",
              "    <tr>\n",
              "      <th>45641</th>\n",
              "      <td>42436</td>\n",
              "      <td>-2.481639</td>\n",
              "      <td>-2.439949</td>\n",
              "      <td>0.363642</td>\n",
              "      <td>1.216827</td>\n",
              "      <td>2.572442</td>\n",
              "      <td>-1.264220</td>\n",
              "      <td>-0.443652</td>\n",
              "      <td>0.075853</td>\n",
              "      <td>0.073188</td>\n",
              "      <td>0.097421</td>\n",
              "      <td>-1.339838</td>\n",
              "      <td>-0.596440</td>\n",
              "      <td>-0.692792</td>\n",
              "      <td>0.278758</td>\n",
              "      <td>0.871242</td>\n",
              "      <td>-0.750009</td>\n",
              "      <td>0.282120</td>\n",
              "      <td>-0.317401</td>\n",
              "      <td>1.357643</td>\n",
              "      <td>-0.221691</td>\n",
              "      <td>-0.039426</td>\n",
              "      <td>0.480591</td>\n",
              "      <td>1.779358</td>\n",
              "      <td>-0.756700</td>\n",
              "      <td>-0.161099</td>\n",
              "      <td>0.685617</td>\n",
              "      <td>0.223071</td>\n",
              "      <td>0.139619</td>\n",
              "      <td>0.00</td>\n",
              "      <td>0.0</td>\n",
              "    </tr>\n",
              "    <tr>\n",
              "      <th>45642</th>\n",
              "      <td>42436</td>\n",
              "      <td>1.223475</td>\n",
              "      <td>0.014944</td>\n",
              "      <td>0.471312</td>\n",
              "      <td>-0.038410</td>\n",
              "      <td>-0.566793</td>\n",
              "      <td>-0.867970</td>\n",
              "      <td>-0.058213</td>\n",
              "      <td>-0.144080</td>\n",
              "      <td>0.164904</td>\n",
              "      <td>-0.248839</td>\n",
              "      <td>0.363145</td>\n",
              "      <td>0.615128</td>\n",
              "      <td>0.421817</td>\n",
              "      <td>0.206175</td>\n",
              "      <td>1.320600</td>\n",
              "      <td>-0.150154</td>\n",
              "      <td>0.071375</td>\n",
              "      <td>-1.101733</td>\n",
              "      <td>-0.414879</td>\n",
              "      <td>-0.076754</td>\n",
              "      <td>-0.053292</td>\n",
              "      <td>-0.093680</td>\n",
              "      <td>0.106348</td>\n",
              "      <td>0.471407</td>\n",
              "      <td>0.135555</td>\n",
              "      <td>0.968336</td>\n",
              "      <td>-0.065171</td>\n",
              "      <td>0.005184</td>\n",
              "      <td>7.49</td>\n",
              "      <td>0.0</td>\n",
              "    </tr>\n",
              "    <tr>\n",
              "      <th>45643</th>\n",
              "      <td>42436</td>\n",
              "      <td>1.258657</td>\n",
              "      <td>0.421016</td>\n",
              "      <td>0.325437</td>\n",
              "      <td>0.684259</td>\n",
              "      <td>-0.292529</td>\n",
              "      <td>-1.052786</td>\n",
              "      <td>0.145228</td>\n",
              "      <td>-0.253567</td>\n",
              "      <td>-0.100521</td>\n",
              "      <td>-0.308072</td>\n",
              "      <td>0.083964</td>\n",
              "      <td>0.702541</td>\n",
              "      <td>1.104821</td>\n",
              "      <td>-0.462648</td>\n",
              "      <td>0.997369</td>\n",
              "      <td>0.437119</td>\n",
              "      <td>-0.055465</td>\n",
              "      <td>-0.407290</td>\n",
              "      <td>-0.204127</td>\n",
              "      <td>-0.026262</td>\n",
              "      <td>-0.278029</td>\n",
              "      <td>-0.757417</td>\n",
              "      <td>0.119613</td>\n",
              "      <td>0.369393</td>\n",
              "      <td>0.246145</td>\n",
              "      <td>0.091553</td>\n",
              "      <td>-0.017156</td>\n",
              "      <td>0.032557</td>\n",
              "      <td>0.89</td>\n",
              "      <td>0.0</td>\n",
              "    </tr>\n",
              "    <tr>\n",
              "      <th>45644</th>\n",
              "      <td>42437</td>\n",
              "      <td>-0.500147</td>\n",
              "      <td>1.000770</td>\n",
              "      <td>1.809639</td>\n",
              "      <td>-0.114551</td>\n",
              "      <td>0.333865</td>\n",
              "      <td>-0.577076</td>\n",
              "      <td>1.062325</td>\n",
              "      <td>-0.513050</td>\n",
              "      <td>-0.048285</td>\n",
              "      <td>0.314582</td>\n",
              "      <td>0.369958</td>\n",
              "      <td>0.304582</td>\n",
              "      <td>0.527437</td>\n",
              "      <td>-0.395232</td>\n",
              "      <td>1.013454</td>\n",
              "      <td>-0.431934</td>\n",
              "      <td>-0.274147</td>\n",
              "      <td>-1.039753</td>\n",
              "      <td>-0.462377</td>\n",
              "      <td>0.182763</td>\n",
              "      <td>-0.193814</td>\n",
              "      <td>-0.161410</td>\n",
              "      <td>0.036965</td>\n",
              "      <td>0.400154</td>\n",
              "      <td>-0.802486</td>\n",
              "      <td>-0.076097</td>\n",
              "      <td>-0.214317</td>\n",
              "      <td>-0.229160</td>\n",
              "      <td>2.69</td>\n",
              "      <td>0.0</td>\n",
              "    </tr>\n",
              "    <tr>\n",
              "      <th>45645</th>\n",
              "      <td>42437</td>\n",
              "      <td>-0.652459</td>\n",
              "      <td>0.177290</td>\n",
              "      <td>1.955607</td>\n",
              "      <td>-1.879724</td>\n",
              "      <td>-0.368457</td>\n",
              "      <td>0.000000</td>\n",
              "      <td>0.000000</td>\n",
              "      <td>0.000000</td>\n",
              "      <td>0.000000</td>\n",
              "      <td>0.000000</td>\n",
              "      <td>0.000000</td>\n",
              "      <td>0.000000</td>\n",
              "      <td>0.000000</td>\n",
              "      <td>0.000000</td>\n",
              "      <td>0.000000</td>\n",
              "      <td>0.000000</td>\n",
              "      <td>0.000000</td>\n",
              "      <td>0.000000</td>\n",
              "      <td>0.000000</td>\n",
              "      <td>0.000000</td>\n",
              "      <td>0.000000</td>\n",
              "      <td>0.000000</td>\n",
              "      <td>0.000000</td>\n",
              "      <td>0.000000</td>\n",
              "      <td>0.000000</td>\n",
              "      <td>0.000000</td>\n",
              "      <td>0.000000</td>\n",
              "      <td>0.000000</td>\n",
              "      <td>0.00</td>\n",
              "      <td>0.0</td>\n",
              "    </tr>\n",
              "  </tbody>\n",
              "</table>\n",
              "<p>45646 rows × 31 columns</p>\n",
              "</div>"
            ],
            "text/plain": [
              "        Time        V1        V2        V3  ...       V27       V28  Amount  Class\n",
              "0          0 -1.359807 -0.072781  2.536347  ...  0.133558 -0.021053  149.62    0.0\n",
              "1          0  1.191857  0.266151  0.166480  ... -0.008983  0.014724    2.69    0.0\n",
              "2          1 -1.358354 -1.340163  1.773209  ... -0.055353 -0.059752  378.66    0.0\n",
              "3          1 -0.966272 -0.185226  1.792993  ...  0.062723  0.061458  123.50    0.0\n",
              "4          2 -1.158233  0.877737  1.548718  ...  0.219422  0.215153   69.99    0.0\n",
              "...      ...       ...       ...       ...  ...       ...       ...     ...    ...\n",
              "45641  42436 -2.481639 -2.439949  0.363642  ...  0.223071  0.139619    0.00    0.0\n",
              "45642  42436  1.223475  0.014944  0.471312  ... -0.065171  0.005184    7.49    0.0\n",
              "45643  42436  1.258657  0.421016  0.325437  ... -0.017156  0.032557    0.89    0.0\n",
              "45644  42437 -0.500147  1.000770  1.809639  ... -0.214317 -0.229160    2.69    0.0\n",
              "45645  42437 -0.652459  0.177290  1.955607  ...  0.000000  0.000000    0.00    0.0\n",
              "\n",
              "[45646 rows x 31 columns]"
            ]
          },
          "metadata": {},
          "execution_count": 11
        }
      ]
    },
    {
      "cell_type": "code",
      "execution_count": 12,
      "metadata": {
        "colab": {
          "base_uri": "https://localhost:8080/"
        },
        "id": "jYoBR1KKXYwG",
        "outputId": "adf330be-340a-40ec-c445-7ff121bb8396"
      },
      "outputs": [
        {
          "output_type": "execute_result",
          "data": {
            "text/plain": [
              "0.0    45503\n",
              "1.0      142\n",
              "Name: Class, dtype: int64"
            ]
          },
          "metadata": {},
          "execution_count": 12
        }
      ],
      "source": [
        "df.Class.value_counts()\n",
        "# 0 = Valid\n",
        "# 1 = Fraud"
      ]
    },
    {
      "cell_type": "code",
      "source": [
        "# Later, we will need an estimate of the fraction of fraudulent\n",
        "# transactions (called \"contamination\")\n",
        "cntmn = 142/45503\n",
        "print(cntmn)"
      ],
      "metadata": {
        "colab": {
          "base_uri": "https://localhost:8080/"
        },
        "id": "0I8ZL0htdbbh",
        "outputId": "98ac3fd9-0a49-4bb9-bc46-dbe9dd195ec6"
      },
      "execution_count": 13,
      "outputs": [
        {
          "output_type": "stream",
          "name": "stdout",
          "text": [
            "0.003120673362195899\n"
          ]
        }
      ]
    },
    {
      "cell_type": "code",
      "execution_count": 14,
      "metadata": {
        "colab": {
          "base_uri": "https://localhost:8080/",
          "height": 852
        },
        "id": "CRnviggMXYwI",
        "outputId": "5a91e281-460c-4c04-8e1e-24eae6cd8e2e"
      },
      "outputs": [
        {
          "output_type": "display_data",
          "data": {
            "image/png": "[encoded data removed]",
            "text/plain": [
              "<Figure size 1080x1080 with 36 Axes>"
            ]
          },
          "metadata": {}
        }
      ],
      "source": [
        "df.hist(figsize=(15,15));"
      ]
    },
    {
      "cell_type": "markdown",
      "metadata": {
        "id": "I0SEmJhpXYwI"
      },
      "source": [
        "Most of the data is already standardized ($\\mu = 0, \\sigma = 1$), so we'll standardize the remaining columns except for the \"Class\" column, which contains the labels."
      ]
    },
    {
      "cell_type": "code",
      "execution_count": 15,
      "metadata": {
        "id": "DiWLrYWbXYwJ"
      },
      "outputs": [],
      "source": [
        "from sklearn.preprocessing import StandardScaler\n",
        "\n",
        "# Let's standardize (mu = 0, sigma = 1) the amount column prior to PCA analysis\n",
        "scale = StandardScaler()\n",
        "df[[\"Time_Stdz\", \"Amt_Stdz\"]] = scale.fit_transform(df[[\"Time\", \"Amount\"]])"
      ]
    },
    {
      "cell_type": "code",
      "execution_count": 16,
      "metadata": {
        "colab": {
          "base_uri": "https://localhost:8080/",
          "height": 370
        },
        "id": "TvmEF6qMXYwK",
        "outputId": "f270c745-0c8d-4e10-e0da-3d7ddf45e71b"
      },
      "outputs": [
        {
          "output_type": "error",
          "ename": "ValueError",
          "evalue": "ignored",
          "traceback": [
            "\u001b[0;31m---------------------------------------------------------------------------\u001b[0m",
            "\u001b[0;31mValueError\u001b[0m                                Traceback (most recent call last)",
            "\u001b[0;32m<ipython-input-16-6d91ea17908c>\u001b[0m in \u001b[0;36m<module>\u001b[0;34m()\u001b[0m\n\u001b[1;32m      5\u001b[0m \u001b[0mdf2\u001b[0m \u001b[0;34m=\u001b[0m \u001b[0mdf\u001b[0m\u001b[0;34m.\u001b[0m\u001b[0mdrop\u001b[0m\u001b[0;34m(\u001b[0m\u001b[0;34m[\u001b[0m\u001b[0;34m\"Time\"\u001b[0m\u001b[0;34m,\u001b[0m \u001b[0;34m\"Amount\"\u001b[0m\u001b[0;34m,\u001b[0m \u001b[0;34m\"Class\"\u001b[0m\u001b[0;34m]\u001b[0m\u001b[0;34m,\u001b[0m \u001b[0maxis\u001b[0m\u001b[0;34m=\u001b[0m\u001b[0;36m1\u001b[0m\u001b[0;34m)\u001b[0m\u001b[0;34m\u001b[0m\u001b[0;34m\u001b[0m\u001b[0m\n\u001b[1;32m      6\u001b[0m \u001b[0mpca\u001b[0m \u001b[0;34m=\u001b[0m \u001b[0mPCA\u001b[0m\u001b[0;34m(\u001b[0m\u001b[0;34m)\u001b[0m\u001b[0;34m\u001b[0m\u001b[0;34m\u001b[0m\u001b[0m\n\u001b[0;32m----> 7\u001b[0;31m \u001b[0mpca\u001b[0m\u001b[0;34m.\u001b[0m\u001b[0mfit\u001b[0m\u001b[0;34m(\u001b[0m\u001b[0mdf2\u001b[0m\u001b[0;34m)\u001b[0m\u001b[0;34m\u001b[0m\u001b[0;34m\u001b[0m\u001b[0m\n\u001b[0m",
            "\u001b[0;32m/usr/local/lib/python3.7/dist-packages/sklearn/decomposition/_pca.py\u001b[0m in \u001b[0;36mfit\u001b[0;34m(self, X, y)\u001b[0m\n\u001b[1;32m    380\u001b[0m             \u001b[0mReturns\u001b[0m \u001b[0mthe\u001b[0m \u001b[0minstance\u001b[0m \u001b[0mitself\u001b[0m\u001b[0;34m.\u001b[0m\u001b[0;34m\u001b[0m\u001b[0;34m\u001b[0m\u001b[0m\n\u001b[1;32m    381\u001b[0m         \"\"\"\n\u001b[0;32m--> 382\u001b[0;31m         \u001b[0mself\u001b[0m\u001b[0;34m.\u001b[0m\u001b[0m_fit\u001b[0m\u001b[0;34m(\u001b[0m\u001b[0mX\u001b[0m\u001b[0;34m)\u001b[0m\u001b[0;34m\u001b[0m\u001b[0;34m\u001b[0m\u001b[0m\n\u001b[0m\u001b[1;32m    383\u001b[0m         \u001b[0;32mreturn\u001b[0m \u001b[0mself\u001b[0m\u001b[0;34m\u001b[0m\u001b[0;34m\u001b[0m\u001b[0m\n\u001b[1;32m    384\u001b[0m \u001b[0;34m\u001b[0m\u001b[0m\n",
            "\u001b[0;32m/usr/local/lib/python3.7/dist-packages/sklearn/decomposition/_pca.py\u001b[0m in \u001b[0;36m_fit\u001b[0;34m(self, X)\u001b[0m\n\u001b[1;32m    429\u001b[0m \u001b[0;34m\u001b[0m\u001b[0m\n\u001b[1;32m    430\u001b[0m         X = self._validate_data(\n\u001b[0;32m--> 431\u001b[0;31m             \u001b[0mX\u001b[0m\u001b[0;34m,\u001b[0m \u001b[0mdtype\u001b[0m\u001b[0;34m=\u001b[0m\u001b[0;34m[\u001b[0m\u001b[0mnp\u001b[0m\u001b[0;34m.\u001b[0m\u001b[0mfloat64\u001b[0m\u001b[0;34m,\u001b[0m \u001b[0mnp\u001b[0m\u001b[0;34m.\u001b[0m\u001b[0mfloat32\u001b[0m\u001b[0;34m]\u001b[0m\u001b[0;34m,\u001b[0m \u001b[0mensure_2d\u001b[0m\u001b[0;34m=\u001b[0m\u001b[0;32mTrue\u001b[0m\u001b[0;34m,\u001b[0m \u001b[0mcopy\u001b[0m\u001b[0;34m=\u001b[0m\u001b[0mself\u001b[0m\u001b[0;34m.\u001b[0m\u001b[0mcopy\u001b[0m\u001b[0;34m\u001b[0m\u001b[0;34m\u001b[0m\u001b[0m\n\u001b[0m\u001b[1;32m    432\u001b[0m         )\n\u001b[1;32m    433\u001b[0m \u001b[0;34m\u001b[0m\u001b[0m\n",
            "\u001b[0;32m/usr/local/lib/python3.7/dist-packages/sklearn/base.py\u001b[0m in \u001b[0;36m_validate_data\u001b[0;34m(self, X, y, reset, validate_separately, **check_params)\u001b[0m\n\u001b[1;32m    559\u001b[0m             \u001b[0;32mraise\u001b[0m \u001b[0mValueError\u001b[0m\u001b[0;34m(\u001b[0m\u001b[0;34m\"Validation should be done on X, y or both.\"\u001b[0m\u001b[0;34m)\u001b[0m\u001b[0;34m\u001b[0m\u001b[0;34m\u001b[0m\u001b[0m\n\u001b[1;32m    560\u001b[0m         \u001b[0;32melif\u001b[0m \u001b[0;32mnot\u001b[0m \u001b[0mno_val_X\u001b[0m \u001b[0;32mand\u001b[0m \u001b[0mno_val_y\u001b[0m\u001b[0;34m:\u001b[0m\u001b[0;34m\u001b[0m\u001b[0;34m\u001b[0m\u001b[0m\n\u001b[0;32m--> 561\u001b[0;31m             \u001b[0mX\u001b[0m \u001b[0;34m=\u001b[0m \u001b[0mcheck_array\u001b[0m\u001b[0;34m(\u001b[0m\u001b[0mX\u001b[0m\u001b[0;34m,\u001b[0m \u001b[0;34m**\u001b[0m\u001b[0mcheck_params\u001b[0m\u001b[0;34m)\u001b[0m\u001b[0;34m\u001b[0m\u001b[0;34m\u001b[0m\u001b[0m\n\u001b[0m\u001b[1;32m    562\u001b[0m             \u001b[0mout\u001b[0m \u001b[0;34m=\u001b[0m \u001b[0mX\u001b[0m\u001b[0;34m\u001b[0m\u001b[0;34m\u001b[0m\u001b[0m\n\u001b[1;32m    563\u001b[0m         \u001b[0;32melif\u001b[0m \u001b[0mno_val_X\u001b[0m \u001b[0;32mand\u001b[0m \u001b[0;32mnot\u001b[0m \u001b[0mno_val_y\u001b[0m\u001b[0;34m:\u001b[0m\u001b[0;34m\u001b[0m\u001b[0;34m\u001b[0m\u001b[0m\n",
            "\u001b[0;32m/usr/local/lib/python3.7/dist-packages/sklearn/utils/validation.py\u001b[0m in \u001b[0;36mcheck_array\u001b[0;34m(array, accept_sparse, accept_large_sparse, dtype, order, copy, force_all_finite, ensure_2d, allow_nd, ensure_min_samples, ensure_min_features, estimator)\u001b[0m\n\u001b[1;32m    790\u001b[0m \u001b[0;34m\u001b[0m\u001b[0m\n\u001b[1;32m    791\u001b[0m         \u001b[0;32mif\u001b[0m \u001b[0mforce_all_finite\u001b[0m\u001b[0;34m:\u001b[0m\u001b[0;34m\u001b[0m\u001b[0;34m\u001b[0m\u001b[0m\n\u001b[0;32m--> 792\u001b[0;31m             \u001b[0m_assert_all_finite\u001b[0m\u001b[0;34m(\u001b[0m\u001b[0marray\u001b[0m\u001b[0;34m,\u001b[0m \u001b[0mallow_nan\u001b[0m\u001b[0;34m=\u001b[0m\u001b[0mforce_all_finite\u001b[0m \u001b[0;34m==\u001b[0m \u001b[0;34m\"allow-nan\"\u001b[0m\u001b[0;34m)\u001b[0m\u001b[0;34m\u001b[0m\u001b[0;34m\u001b[0m\u001b[0m\n\u001b[0m\u001b[1;32m    793\u001b[0m \u001b[0;34m\u001b[0m\u001b[0m\n\u001b[1;32m    794\u001b[0m     \u001b[0;32mif\u001b[0m \u001b[0mensure_min_samples\u001b[0m \u001b[0;34m>\u001b[0m \u001b[0;36m0\u001b[0m\u001b[0;34m:\u001b[0m\u001b[0;34m\u001b[0m\u001b[0;34m\u001b[0m\u001b[0m\n",
            "\u001b[0;32m/usr/local/lib/python3.7/dist-packages/sklearn/utils/validation.py\u001b[0m in \u001b[0;36m_assert_all_finite\u001b[0;34m(X, allow_nan, msg_dtype)\u001b[0m\n\u001b[1;32m    114\u001b[0m             raise ValueError(\n\u001b[1;32m    115\u001b[0m                 msg_err.format(\n\u001b[0;32m--> 116\u001b[0;31m                     \u001b[0mtype_err\u001b[0m\u001b[0;34m,\u001b[0m \u001b[0mmsg_dtype\u001b[0m \u001b[0;32mif\u001b[0m \u001b[0mmsg_dtype\u001b[0m \u001b[0;32mis\u001b[0m \u001b[0;32mnot\u001b[0m \u001b[0;32mNone\u001b[0m \u001b[0;32melse\u001b[0m \u001b[0mX\u001b[0m\u001b[0;34m.\u001b[0m\u001b[0mdtype\u001b[0m\u001b[0;34m\u001b[0m\u001b[0;34m\u001b[0m\u001b[0m\n\u001b[0m\u001b[1;32m    117\u001b[0m                 )\n\u001b[1;32m    118\u001b[0m             )\n",
            "\u001b[0;31mValueError\u001b[0m: Input contains NaN, infinity or a value too large for dtype('float64')."
          ]
        }
      ],
      "source": [
        "from sklearn.decomposition import PCA\n",
        "\n",
        "# Drop the unstandardized \"Amount\" and \"Time\" columns,\n",
        "# as well as the label column, \"Class\"\n",
        "df2 = df.drop([\"Time\", \"Amount\", \"Class\"], axis=1)\n",
        "pca = PCA()\n",
        "pca.fit(df2)"
      ]
    },
    {
      "cell_type": "code",
      "execution_count": 12,
      "metadata": {
        "colab": {
          "base_uri": "https://localhost:8080/"
        },
        "id": "sfPFLwsUXYwM",
        "outputId": "c883fbb6-c90e-4257-8265-9da965c30989"
      },
      "outputs": [
        {
          "output_type": "execute_result",
          "data": {
            "text/plain": [
              "array([0.12088206, 0.09654333, 0.0792491 , 0.06548459, 0.06090455,\n",
              "       0.05492346, 0.04985652, 0.04372582, 0.03692046, 0.03686609,\n",
              "       0.03580899, 0.03078275, 0.03029957, 0.02844072, 0.02659639,\n",
              "       0.02346401, 0.02235878, 0.02173401, 0.02118511, 0.02007162,\n",
              "       0.01752752, 0.01655258, 0.01309067, 0.01194615, 0.01119211,\n",
              "       0.00718657, 0.00658241, 0.0049962 , 0.00333107, 0.00149677])"
            ]
          },
          "metadata": {},
          "execution_count": 12
        }
      ],
      "source": [
        "# Return the explained variance ratio by factor\n",
        "pca.explained_variance_ratio_"
      ]
    },
    {
      "cell_type": "code",
      "execution_count": 13,
      "metadata": {
        "colab": {
          "base_uri": "https://localhost:8080/",
          "height": 515
        },
        "id": "reqgwzDbXYwN",
        "outputId": "15290df9-f4dc-4ba1-97f5-5dca99dd41b1"
      },
      "outputs": [
        {
          "output_type": "execute_result",
          "data": {
            "text/plain": [
              "Text(0, 0.5, 'Cumulative Explained Variance')"
            ]
          },
          "metadata": {},
          "execution_count": 13
        },
        {
          "output_type": "display_data",
          "data": {
            "image/png": "[encoded data removed]",
            "text/plain": [
              "<Figure size 1080x576 with 1 Axes>"
            ]
          },
          "metadata": {
            "needs_background": "light"
          }
        }
      ],
      "source": [
        "plt.figure(figsize=(15,8))\n",
        "plt.plot(pca.explained_variance_ratio_.cumsum(), marker='o', linestyle='--')\n",
        "plt.title(\"Explained Variance by Components\")\n",
        "plt.xlabel(\"Number of Components\")\n",
        "plt.ylabel(\"Cumulative Explained Variance\")"
      ]
    },
    {
      "cell_type": "markdown",
      "metadata": {
        "id": "BMGy-4XdXYwO"
      },
      "source": [
        "Cumulative variance shows few if any superfluous columns. Below, we'll go ahead and plot the elbow to see if there is an obvious reduction somewhere in the marginal explained variances."
      ]
    },
    {
      "cell_type": "code",
      "execution_count": 14,
      "metadata": {
        "colab": {
          "base_uri": "https://localhost:8080/"
        },
        "id": "c7H5DbqTXYwP",
        "outputId": "a5b32207-4cfa-46ee-a261-b354f4aa6007"
      },
      "outputs": [
        {
          "output_type": "stream",
          "name": "stdout",
          "text": [
            "                PC0       PC1       PC2  ...      PC27      PC28      PC29\n",
            "V1        -0.956469  0.241162 -0.062487  ...  0.005945  0.003164 -0.089386\n",
            "V2        -0.153603 -0.822955  0.229013  ...  0.018819  0.010511 -0.249203\n",
            "V3        -0.011369 -0.206242 -0.870111  ...  0.011544  0.007219 -0.108803\n",
            "V4         0.021590  0.039213 -0.092210  ... -0.003248 -0.001577  0.054153\n",
            "V5        -0.065609 -0.157595  0.114357  ...  0.015223  0.008035 -0.218133\n",
            "V6         0.031655  0.079503 -0.030510  ... -0.009191 -0.004922  0.126646\n",
            "V7         0.040503  0.126950  0.050844  ... -0.020548 -0.011457  0.252480\n",
            "V8        -0.009168 -0.030673 -0.017572  ...  0.005729  0.003221 -0.068046\n",
            "V9        -0.003559 -0.010443 -0.003617  ...  0.002653  0.001460 -0.031942\n",
            "V10       -0.009604 -0.021380  0.007117  ...  0.005554  0.002916 -0.073864\n",
            "V11        0.006892 -0.009012 -0.063497  ...  0.003226  0.002485 -0.000587\n",
            "V12       -0.004032  0.002565  0.030196  ... -0.001046 -0.000949 -0.007293\n",
            "V13        0.002140 -0.001305 -0.015859  ...  0.000542  0.000497  0.004072\n",
            "V14        0.004783  0.002647 -0.021512  ... -0.000937 -0.000172  0.027995\n",
            "V15        0.004083 -0.005949 -0.037316  ...  0.003019  0.002233 -0.003194\n",
            "V16       -0.000493 -0.000250  0.002176  ...  0.000117  0.000017 -0.003586\n",
            "V17        0.001943 -0.000902 -0.012871  ...  0.000644  0.000617  0.006777\n",
            "V18        0.000143  0.007256  0.016048  ... -0.004615 -0.002742  0.035072\n",
            "V19       -0.003578 -0.006694  0.004124  ...  0.004483  0.002183 -0.056538\n",
            "V20        0.017801  0.040123 -0.004125  ... -0.032230 -0.016066  0.364662\n",
            "V21        0.004178  0.012975  0.007255  ... -0.012318 -0.006339  0.120870\n",
            "V22       -0.005392 -0.004224  0.019102  ...  0.003857  0.001212 -0.074290\n",
            "V23       -0.004987 -0.009405  0.004790  ...  0.015423  0.006761 -0.156615\n",
            "V24        0.000405  0.000186 -0.001678  ... -0.000298 -0.000028  0.007376\n",
            "V25        0.001149 -0.006678 -0.020685  ...  0.025231  0.011635 -0.086563\n",
            "V26        0.000335 -0.000730 -0.003314  ...  0.004477  0.001875 -0.006695\n",
            "V27        0.000708  0.001519 -0.000204  ...  0.996676 -0.006378  0.077610\n",
            "V28        0.000255  0.000372 -0.000451  ...  0.002757  0.998988  0.042804\n",
            "Time_Stdz -0.079364  0.075678  0.389832  ...  0.011232  0.009182 -0.002626\n",
            "Amt_Stdz   0.216861  0.404775  0.026900  ...  0.054747  0.031174 -0.760410\n",
            "\n",
            "[30 rows x 30 columns]\n"
          ]
        }
      ],
      "source": [
        "# Reformat and view results\n",
        "loadings = pd.DataFrame(pca.components_.T,\n",
        "columns=['PC%s' % _ for _ in range(len(df2.columns))], index=df2.columns)\n",
        "print(loadings)"
      ]
    },
    {
      "cell_type": "code",
      "execution_count": 15,
      "metadata": {
        "colab": {
          "base_uri": "https://localhost:8080/",
          "height": 279
        },
        "id": "pO55c_5-XYwQ",
        "outputId": "e207e469-5b90-4f1e-9af1-7d0043ea34df"
      },
      "outputs": [
        {
          "output_type": "display_data",
          "data": {
            "image/png": "[encoded data removed]",
            "text/plain": [
              "<Figure size 432x288 with 1 Axes>"
            ]
          },
          "metadata": {
            "needs_background": "light"
          }
        }
      ],
      "source": [
        "plt.plot(pca.explained_variance_ratio_)\n",
        "plt.ylabel('Explained Variance')\n",
        "plt.xlabel('Components')\n",
        "plt.show()"
      ]
    },
    {
      "cell_type": "markdown",
      "metadata": {
        "id": "0ShKbhCcXYwR"
      },
      "source": [
        "The marginal variance explained by component isn't strictly smooth, but neither is it obviously kinked at some number of components. It looks as though we'll need all of our columns to carry out our anomaly detection."
      ]
    },
    {
      "cell_type": "code",
      "execution_count": null,
      "metadata": {
        "id": "B_c2nxcRXYwR"
      },
      "outputs": [],
      "source": [
        "#plt.figure(figsize=(20,10))\n",
        "#sns.pairplot(df[[\"Time\",\"V1\", \"Amount\"]])"
      ]
    },
    {
      "cell_type": "code",
      "execution_count": null,
      "metadata": {
        "id": "pOof1lLFXYwS"
      },
      "outputs": [],
      "source": [
        "#plt.figure(figsize=(20,5))\n",
        "#sns.scatterplot(df[\"Time\"], df[\"V1\"], hue=df[\"Class\"])"
      ]
    },
    {
      "cell_type": "code",
      "execution_count": null,
      "metadata": {
        "id": "UmbnWCTyXYwT"
      },
      "outputs": [],
      "source": [
        "#plt.figure(figsize=(20,5))\n",
        "#sns.scatterplot(df[\"V1\"], df[\"V2\"], hue=df[\"Class\"])"
      ]
    },
    {
      "cell_type": "markdown",
      "metadata": {
        "id": "CyLb_MxiXYwT"
      },
      "source": [
        "### 4. Preprocessing:"
      ]
    },
    {
      "cell_type": "code",
      "execution_count": 16,
      "metadata": {
        "colab": {
          "base_uri": "https://localhost:8080/",
          "height": 226
        },
        "id": "EUp6GxsNXYwU",
        "outputId": "e611c2ae-94ea-4f79-a7b4-a8774dd3ca42"
      },
      "outputs": [
        {
          "output_type": "execute_result",
          "data": {
            "text/html": [
              "<div>\n",
              "<style scoped>\n",
              "    .dataframe tbody tr th:only-of-type {\n",
              "        vertical-align: middle;\n",
              "    }\n",
              "\n",
              "    .dataframe tbody tr th {\n",
              "        vertical-align: top;\n",
              "    }\n",
              "\n",
              "    .dataframe thead th {\n",
              "        text-align: right;\n",
              "    }\n",
              "</style>\n",
              "<table border=\"1\" class=\"dataframe\">\n",
              "  <thead>\n",
              "    <tr style=\"text-align: right;\">\n",
              "      <th></th>\n",
              "      <th>V1</th>\n",
              "      <th>V2</th>\n",
              "      <th>V3</th>\n",
              "      <th>V4</th>\n",
              "      <th>V5</th>\n",
              "      <th>V6</th>\n",
              "      <th>V7</th>\n",
              "      <th>V8</th>\n",
              "      <th>V9</th>\n",
              "      <th>V10</th>\n",
              "      <th>V11</th>\n",
              "      <th>V12</th>\n",
              "      <th>V13</th>\n",
              "      <th>V14</th>\n",
              "      <th>V15</th>\n",
              "      <th>V16</th>\n",
              "      <th>V17</th>\n",
              "      <th>V18</th>\n",
              "      <th>V19</th>\n",
              "      <th>V20</th>\n",
              "      <th>V21</th>\n",
              "      <th>V22</th>\n",
              "      <th>V23</th>\n",
              "      <th>V24</th>\n",
              "      <th>V25</th>\n",
              "      <th>V26</th>\n",
              "      <th>V27</th>\n",
              "      <th>V28</th>\n",
              "      <th>Time_Stdz</th>\n",
              "      <th>Amt_Stdz</th>\n",
              "    </tr>\n",
              "  </thead>\n",
              "  <tbody>\n",
              "    <tr>\n",
              "      <th>0</th>\n",
              "      <td>-1.359807</td>\n",
              "      <td>-0.072781</td>\n",
              "      <td>2.536347</td>\n",
              "      <td>1.378155</td>\n",
              "      <td>-0.338321</td>\n",
              "      <td>0.462388</td>\n",
              "      <td>0.239599</td>\n",
              "      <td>0.098698</td>\n",
              "      <td>0.363787</td>\n",
              "      <td>0.090794</td>\n",
              "      <td>-0.551600</td>\n",
              "      <td>-0.617801</td>\n",
              "      <td>-0.991390</td>\n",
              "      <td>-0.311169</td>\n",
              "      <td>1.468177</td>\n",
              "      <td>-0.470401</td>\n",
              "      <td>0.207971</td>\n",
              "      <td>0.025791</td>\n",
              "      <td>0.403993</td>\n",
              "      <td>0.251412</td>\n",
              "      <td>-0.018307</td>\n",
              "      <td>0.277838</td>\n",
              "      <td>-0.110474</td>\n",
              "      <td>0.066928</td>\n",
              "      <td>0.128539</td>\n",
              "      <td>-0.189115</td>\n",
              "      <td>0.133558</td>\n",
              "      <td>-0.021053</td>\n",
              "      <td>-1.996583</td>\n",
              "      <td>0.244964</td>\n",
              "    </tr>\n",
              "    <tr>\n",
              "      <th>1</th>\n",
              "      <td>1.191857</td>\n",
              "      <td>0.266151</td>\n",
              "      <td>0.166480</td>\n",
              "      <td>0.448154</td>\n",
              "      <td>0.060018</td>\n",
              "      <td>-0.082361</td>\n",
              "      <td>-0.078803</td>\n",
              "      <td>0.085102</td>\n",
              "      <td>-0.255425</td>\n",
              "      <td>-0.166974</td>\n",
              "      <td>1.612727</td>\n",
              "      <td>1.065235</td>\n",
              "      <td>0.489095</td>\n",
              "      <td>-0.143772</td>\n",
              "      <td>0.635558</td>\n",
              "      <td>0.463917</td>\n",
              "      <td>-0.114805</td>\n",
              "      <td>-0.183361</td>\n",
              "      <td>-0.145783</td>\n",
              "      <td>-0.069083</td>\n",
              "      <td>-0.225775</td>\n",
              "      <td>-0.638672</td>\n",
              "      <td>0.101288</td>\n",
              "      <td>-0.339846</td>\n",
              "      <td>0.167170</td>\n",
              "      <td>0.125895</td>\n",
              "      <td>-0.008983</td>\n",
              "      <td>0.014724</td>\n",
              "      <td>-1.996583</td>\n",
              "      <td>-0.342475</td>\n",
              "    </tr>\n",
              "    <tr>\n",
              "      <th>2</th>\n",
              "      <td>-1.358354</td>\n",
              "      <td>-1.340163</td>\n",
              "      <td>1.773209</td>\n",
              "      <td>0.379780</td>\n",
              "      <td>-0.503198</td>\n",
              "      <td>1.800499</td>\n",
              "      <td>0.791461</td>\n",
              "      <td>0.247676</td>\n",
              "      <td>-1.514654</td>\n",
              "      <td>0.207643</td>\n",
              "      <td>0.624501</td>\n",
              "      <td>0.066084</td>\n",
              "      <td>0.717293</td>\n",
              "      <td>-0.165946</td>\n",
              "      <td>2.345865</td>\n",
              "      <td>-2.890083</td>\n",
              "      <td>1.109969</td>\n",
              "      <td>-0.121359</td>\n",
              "      <td>-2.261857</td>\n",
              "      <td>0.524980</td>\n",
              "      <td>0.247998</td>\n",
              "      <td>0.771679</td>\n",
              "      <td>0.909412</td>\n",
              "      <td>-0.689281</td>\n",
              "      <td>-0.327642</td>\n",
              "      <td>-0.139097</td>\n",
              "      <td>-0.055353</td>\n",
              "      <td>-0.059752</td>\n",
              "      <td>-1.996562</td>\n",
              "      <td>1.160686</td>\n",
              "    </tr>\n",
              "    <tr>\n",
              "      <th>3</th>\n",
              "      <td>-0.966272</td>\n",
              "      <td>-0.185226</td>\n",
              "      <td>1.792993</td>\n",
              "      <td>-0.863291</td>\n",
              "      <td>-0.010309</td>\n",
              "      <td>1.247203</td>\n",
              "      <td>0.237609</td>\n",
              "      <td>0.377436</td>\n",
              "      <td>-1.387024</td>\n",
              "      <td>-0.054952</td>\n",
              "      <td>-0.226487</td>\n",
              "      <td>0.178228</td>\n",
              "      <td>0.507757</td>\n",
              "      <td>-0.287924</td>\n",
              "      <td>-0.631418</td>\n",
              "      <td>-1.059647</td>\n",
              "      <td>-0.684093</td>\n",
              "      <td>1.965775</td>\n",
              "      <td>-1.232622</td>\n",
              "      <td>-0.208038</td>\n",
              "      <td>-0.108300</td>\n",
              "      <td>0.005274</td>\n",
              "      <td>-0.190321</td>\n",
              "      <td>-1.175575</td>\n",
              "      <td>0.647376</td>\n",
              "      <td>-0.221929</td>\n",
              "      <td>0.062723</td>\n",
              "      <td>0.061458</td>\n",
              "      <td>-1.996562</td>\n",
              "      <td>0.140534</td>\n",
              "    </tr>\n",
              "    <tr>\n",
              "      <th>4</th>\n",
              "      <td>-1.158233</td>\n",
              "      <td>0.877737</td>\n",
              "      <td>1.548718</td>\n",
              "      <td>0.403034</td>\n",
              "      <td>-0.407193</td>\n",
              "      <td>0.095921</td>\n",
              "      <td>0.592941</td>\n",
              "      <td>-0.270533</td>\n",
              "      <td>0.817739</td>\n",
              "      <td>0.753074</td>\n",
              "      <td>-0.822843</td>\n",
              "      <td>0.538196</td>\n",
              "      <td>1.345852</td>\n",
              "      <td>-1.119670</td>\n",
              "      <td>0.175121</td>\n",
              "      <td>-0.451449</td>\n",
              "      <td>-0.237033</td>\n",
              "      <td>-0.038195</td>\n",
              "      <td>0.803487</td>\n",
              "      <td>0.408542</td>\n",
              "      <td>-0.009431</td>\n",
              "      <td>0.798278</td>\n",
              "      <td>-0.137458</td>\n",
              "      <td>0.141267</td>\n",
              "      <td>-0.206010</td>\n",
              "      <td>0.502292</td>\n",
              "      <td>0.219422</td>\n",
              "      <td>0.215153</td>\n",
              "      <td>-1.996541</td>\n",
              "      <td>-0.073403</td>\n",
              "    </tr>\n",
              "  </tbody>\n",
              "</table>\n",
              "</div>"
            ],
            "text/plain": [
              "         V1        V2        V3  ...       V28  Time_Stdz  Amt_Stdz\n",
              "0 -1.359807 -0.072781  2.536347  ... -0.021053  -1.996583  0.244964\n",
              "1  1.191857  0.266151  0.166480  ...  0.014724  -1.996583 -0.342475\n",
              "2 -1.358354 -1.340163  1.773209  ... -0.059752  -1.996562  1.160686\n",
              "3 -0.966272 -0.185226  1.792993  ...  0.061458  -1.996562  0.140534\n",
              "4 -1.158233  0.877737  1.548718  ...  0.215153  -1.996541 -0.073403\n",
              "\n",
              "[5 rows x 30 columns]"
            ]
          },
          "metadata": {},
          "execution_count": 16
        }
      ],
      "source": [
        "df2.head()"
      ]
    },
    {
      "cell_type": "code",
      "execution_count": 17,
      "metadata": {
        "colab": {
          "base_uri": "https://localhost:8080/",
          "height": 226
        },
        "id": "GIMTabYCXYwU",
        "outputId": "679d8b50-ad77-4f2e-8351-290ffad309b4"
      },
      "outputs": [
        {
          "output_type": "execute_result",
          "data": {
            "text/html": [
              "<div>\n",
              "<style scoped>\n",
              "    .dataframe tbody tr th:only-of-type {\n",
              "        vertical-align: middle;\n",
              "    }\n",
              "\n",
              "    .dataframe tbody tr th {\n",
              "        vertical-align: top;\n",
              "    }\n",
              "\n",
              "    .dataframe thead th {\n",
              "        text-align: right;\n",
              "    }\n",
              "</style>\n",
              "<table border=\"1\" class=\"dataframe\">\n",
              "  <thead>\n",
              "    <tr style=\"text-align: right;\">\n",
              "      <th></th>\n",
              "      <th>V1</th>\n",
              "      <th>V2</th>\n",
              "      <th>V3</th>\n",
              "      <th>V4</th>\n",
              "      <th>V5</th>\n",
              "      <th>V6</th>\n",
              "      <th>V7</th>\n",
              "      <th>V8</th>\n",
              "      <th>V9</th>\n",
              "      <th>V10</th>\n",
              "      <th>V11</th>\n",
              "      <th>V12</th>\n",
              "      <th>V13</th>\n",
              "      <th>V14</th>\n",
              "      <th>V15</th>\n",
              "      <th>V16</th>\n",
              "      <th>V17</th>\n",
              "      <th>V18</th>\n",
              "      <th>V19</th>\n",
              "      <th>V20</th>\n",
              "      <th>V21</th>\n",
              "      <th>V22</th>\n",
              "      <th>V23</th>\n",
              "      <th>V24</th>\n",
              "      <th>V25</th>\n",
              "      <th>V26</th>\n",
              "      <th>V27</th>\n",
              "      <th>V28</th>\n",
              "      <th>Time_Stdz</th>\n",
              "      <th>Amt_Stdz</th>\n",
              "      <th>Class</th>\n",
              "    </tr>\n",
              "  </thead>\n",
              "  <tbody>\n",
              "    <tr>\n",
              "      <th>0</th>\n",
              "      <td>-1.359807</td>\n",
              "      <td>-0.072781</td>\n",
              "      <td>2.536347</td>\n",
              "      <td>1.378155</td>\n",
              "      <td>-0.338321</td>\n",
              "      <td>0.462388</td>\n",
              "      <td>0.239599</td>\n",
              "      <td>0.098698</td>\n",
              "      <td>0.363787</td>\n",
              "      <td>0.090794</td>\n",
              "      <td>-0.551600</td>\n",
              "      <td>-0.617801</td>\n",
              "      <td>-0.991390</td>\n",
              "      <td>-0.311169</td>\n",
              "      <td>1.468177</td>\n",
              "      <td>-0.470401</td>\n",
              "      <td>0.207971</td>\n",
              "      <td>0.025791</td>\n",
              "      <td>0.403993</td>\n",
              "      <td>0.251412</td>\n",
              "      <td>-0.018307</td>\n",
              "      <td>0.277838</td>\n",
              "      <td>-0.110474</td>\n",
              "      <td>0.066928</td>\n",
              "      <td>0.128539</td>\n",
              "      <td>-0.189115</td>\n",
              "      <td>0.133558</td>\n",
              "      <td>-0.021053</td>\n",
              "      <td>-1.996583</td>\n",
              "      <td>0.244964</td>\n",
              "      <td>0</td>\n",
              "    </tr>\n",
              "    <tr>\n",
              "      <th>1</th>\n",
              "      <td>1.191857</td>\n",
              "      <td>0.266151</td>\n",
              "      <td>0.166480</td>\n",
              "      <td>0.448154</td>\n",
              "      <td>0.060018</td>\n",
              "      <td>-0.082361</td>\n",
              "      <td>-0.078803</td>\n",
              "      <td>0.085102</td>\n",
              "      <td>-0.255425</td>\n",
              "      <td>-0.166974</td>\n",
              "      <td>1.612727</td>\n",
              "      <td>1.065235</td>\n",
              "      <td>0.489095</td>\n",
              "      <td>-0.143772</td>\n",
              "      <td>0.635558</td>\n",
              "      <td>0.463917</td>\n",
              "      <td>-0.114805</td>\n",
              "      <td>-0.183361</td>\n",
              "      <td>-0.145783</td>\n",
              "      <td>-0.069083</td>\n",
              "      <td>-0.225775</td>\n",
              "      <td>-0.638672</td>\n",
              "      <td>0.101288</td>\n",
              "      <td>-0.339846</td>\n",
              "      <td>0.167170</td>\n",
              "      <td>0.125895</td>\n",
              "      <td>-0.008983</td>\n",
              "      <td>0.014724</td>\n",
              "      <td>-1.996583</td>\n",
              "      <td>-0.342475</td>\n",
              "      <td>0</td>\n",
              "    </tr>\n",
              "    <tr>\n",
              "      <th>2</th>\n",
              "      <td>-1.358354</td>\n",
              "      <td>-1.340163</td>\n",
              "      <td>1.773209</td>\n",
              "      <td>0.379780</td>\n",
              "      <td>-0.503198</td>\n",
              "      <td>1.800499</td>\n",
              "      <td>0.791461</td>\n",
              "      <td>0.247676</td>\n",
              "      <td>-1.514654</td>\n",
              "      <td>0.207643</td>\n",
              "      <td>0.624501</td>\n",
              "      <td>0.066084</td>\n",
              "      <td>0.717293</td>\n",
              "      <td>-0.165946</td>\n",
              "      <td>2.345865</td>\n",
              "      <td>-2.890083</td>\n",
              "      <td>1.109969</td>\n",
              "      <td>-0.121359</td>\n",
              "      <td>-2.261857</td>\n",
              "      <td>0.524980</td>\n",
              "      <td>0.247998</td>\n",
              "      <td>0.771679</td>\n",
              "      <td>0.909412</td>\n",
              "      <td>-0.689281</td>\n",
              "      <td>-0.327642</td>\n",
              "      <td>-0.139097</td>\n",
              "      <td>-0.055353</td>\n",
              "      <td>-0.059752</td>\n",
              "      <td>-1.996562</td>\n",
              "      <td>1.160686</td>\n",
              "      <td>0</td>\n",
              "    </tr>\n",
              "    <tr>\n",
              "      <th>3</th>\n",
              "      <td>-0.966272</td>\n",
              "      <td>-0.185226</td>\n",
              "      <td>1.792993</td>\n",
              "      <td>-0.863291</td>\n",
              "      <td>-0.010309</td>\n",
              "      <td>1.247203</td>\n",
              "      <td>0.237609</td>\n",
              "      <td>0.377436</td>\n",
              "      <td>-1.387024</td>\n",
              "      <td>-0.054952</td>\n",
              "      <td>-0.226487</td>\n",
              "      <td>0.178228</td>\n",
              "      <td>0.507757</td>\n",
              "      <td>-0.287924</td>\n",
              "      <td>-0.631418</td>\n",
              "      <td>-1.059647</td>\n",
              "      <td>-0.684093</td>\n",
              "      <td>1.965775</td>\n",
              "      <td>-1.232622</td>\n",
              "      <td>-0.208038</td>\n",
              "      <td>-0.108300</td>\n",
              "      <td>0.005274</td>\n",
              "      <td>-0.190321</td>\n",
              "      <td>-1.175575</td>\n",
              "      <td>0.647376</td>\n",
              "      <td>-0.221929</td>\n",
              "      <td>0.062723</td>\n",
              "      <td>0.061458</td>\n",
              "      <td>-1.996562</td>\n",
              "      <td>0.140534</td>\n",
              "      <td>0</td>\n",
              "    </tr>\n",
              "    <tr>\n",
              "      <th>4</th>\n",
              "      <td>-1.158233</td>\n",
              "      <td>0.877737</td>\n",
              "      <td>1.548718</td>\n",
              "      <td>0.403034</td>\n",
              "      <td>-0.407193</td>\n",
              "      <td>0.095921</td>\n",
              "      <td>0.592941</td>\n",
              "      <td>-0.270533</td>\n",
              "      <td>0.817739</td>\n",
              "      <td>0.753074</td>\n",
              "      <td>-0.822843</td>\n",
              "      <td>0.538196</td>\n",
              "      <td>1.345852</td>\n",
              "      <td>-1.119670</td>\n",
              "      <td>0.175121</td>\n",
              "      <td>-0.451449</td>\n",
              "      <td>-0.237033</td>\n",
              "      <td>-0.038195</td>\n",
              "      <td>0.803487</td>\n",
              "      <td>0.408542</td>\n",
              "      <td>-0.009431</td>\n",
              "      <td>0.798278</td>\n",
              "      <td>-0.137458</td>\n",
              "      <td>0.141267</td>\n",
              "      <td>-0.206010</td>\n",
              "      <td>0.502292</td>\n",
              "      <td>0.219422</td>\n",
              "      <td>0.215153</td>\n",
              "      <td>-1.996541</td>\n",
              "      <td>-0.073403</td>\n",
              "      <td>0</td>\n",
              "    </tr>\n",
              "  </tbody>\n",
              "</table>\n",
              "</div>"
            ],
            "text/plain": [
              "         V1        V2        V3        V4  ...       V28  Time_Stdz  Amt_Stdz  Class\n",
              "0 -1.359807 -0.072781  2.536347  1.378155  ... -0.021053  -1.996583  0.244964      0\n",
              "1  1.191857  0.266151  0.166480  0.448154  ...  0.014724  -1.996583 -0.342475      0\n",
              "2 -1.358354 -1.340163  1.773209  0.379780  ... -0.059752  -1.996562  1.160686      0\n",
              "3 -0.966272 -0.185226  1.792993 -0.863291  ...  0.061458  -1.996562  0.140534      0\n",
              "4 -1.158233  0.877737  1.548718  0.403034  ...  0.215153  -1.996541 -0.073403      0\n",
              "\n",
              "[5 rows x 31 columns]"
            ]
          },
          "metadata": {},
          "execution_count": 17
        }
      ],
      "source": [
        "# Rejoin the labels in the \"Class\" column\n",
        "df3 = pd.concat([df2, df[\"Class\"]], axis=1)\n",
        "df3.head()"
      ]
    },
    {
      "cell_type": "code",
      "execution_count": 18,
      "metadata": {
        "id": "de9LEEqCXYwV"
      },
      "outputs": [],
      "source": [
        "#import pandas as pd\n",
        "#from sklearn.preprocessing import StandardScaler\n",
        "#scaler = StandardScaler()\n",
        "\n",
        "# Below we construct our X and y variables. Since we have many fewer than\n",
        "# 1M samples, we'll create our training and test samples from the whole set\n",
        "\n",
        "X = df3.iloc[:, :-1]\n",
        "y = df3.Class.values.ravel()\n",
        "\n",
        "#X_scaled = scaler.fit_transform(X)"
      ]
    },
    {
      "cell_type": "markdown",
      "metadata": {
        "id": "RXJT4yRZXYwW"
      },
      "source": [
        "###  5. Split Training and Testing Data:"
      ]
    },
    {
      "cell_type": "code",
      "execution_count": 19,
      "metadata": {
        "colab": {
          "base_uri": "https://localhost:8080/"
        },
        "id": "9uud3hygXYwW",
        "outputId": "8f2e34ec-4818-45a7-9553-082e3258e223"
      },
      "outputs": [
        {
          "output_type": "stream",
          "name": "stdout",
          "text": [
            "(213605, 30)\n",
            "(71202, 30)\n",
            "(213605,)\n",
            "(71202,)\n"
          ]
        }
      ],
      "source": [
        "from sklearn.model_selection import train_test_split\n",
        "\n",
        "X_train, X_test, y_train, y_test = train_test_split(X, y, test_size = 0.25, random_state=999)\n",
        "\n",
        "print(X_train.shape)\n",
        "print(X_test.shape)\n",
        "print(y_train.shape)\n",
        "print(y_test.shape)\n"
      ]
    },
    {
      "cell_type": "markdown",
      "metadata": {
        "id": "Z_ZGC4KpXYwX"
      },
      "source": [
        "### 6. Model Development\n",
        "\n",
        "### Classification Methods (Supervised)\n",
        "\n",
        "Some terminology related to reporting as it pertains to Classification Methods:\n",
        "\n",
        "**Precision** is the number of correctly identified members of a class divided by all the times the model predicted that class. Succinctly,\n",
        "\n",
        "**Precision** = $((True Positive)/(True Positive + False Positive))$\n",
        "\n",
        "**Recall** is the number of members of a class that the classifier identified correctly divided by the total number of members in that class. Again succinctly,\n",
        "\n",
        "**Recall** = $((True Positive)/(True Positive + False Negative))$\n",
        "\n",
        "**F1** score is less intuitive because it combines precision and recall into one metric. If precision and recall are both high, F1 will be high. If they are both low, F1 will be low. If one is high and the other low, F1 will be low. F1 is one way to tell whether the classifier is actually good at identifying members of a class, or if it is taking shortcuts like assigning everything to one big class."
      ]
    },
    {
      "cell_type": "markdown",
      "metadata": {
        "id": "3ToVaKh9XYwX"
      },
      "source": [
        "#### Random Forests Classification:"
      ]
    },
    {
      "cell_type": "code",
      "execution_count": 20,
      "metadata": {
        "scrolled": true,
        "colab": {
          "base_uri": "https://localhost:8080/"
        },
        "id": "4XYzZrPkXYwX",
        "outputId": "2b8eea5c-2ad1-4116-d0e8-d0e394883b70"
      },
      "outputs": [
        {
          "output_type": "stream",
          "name": "stdout",
          "text": [
            "              precision    recall  f1-score   support\n",
            "\n",
            "           0       1.00      1.00      1.00     71080\n",
            "           1       0.96      0.87      0.91       122\n",
            "\n",
            "    accuracy                           1.00     71202\n",
            "   macro avg       0.98      0.93      0.96     71202\n",
            "weighted avg       1.00      1.00      1.00     71202\n",
            "\n"
          ]
        }
      ],
      "source": [
        "from sklearn.ensemble import RandomForestClassifier\n",
        "from sklearn.metrics import classification_report\n",
        "\n",
        "rfc = RandomForestClassifier()\n",
        "rfc.fit(X_train, y_train)\n",
        "y_pred = rfc.predict(X_test)\n",
        "\n",
        "print(classification_report(y_test, y_pred))"
      ]
    },
    {
      "cell_type": "markdown",
      "metadata": {
        "id": "2GxMWWA_XYwY"
      },
      "source": [
        "#### XGBoost Classification:"
      ]
    },
    {
      "cell_type": "code",
      "execution_count": 22,
      "metadata": {
        "colab": {
          "base_uri": "https://localhost:8080/"
        },
        "id": "5ZEj_orNXYwY",
        "outputId": "10786526-14a4-45ef-bd60-2d3bda17eea7"
      },
      "outputs": [
        {
          "output_type": "stream",
          "name": "stdout",
          "text": [
            "              precision    recall  f1-score   support\n",
            "\n",
            "           0       1.00      1.00      1.00     71080\n",
            "           1       0.95      0.89      0.92       122\n",
            "\n",
            "    accuracy                           1.00     71202\n",
            "   macro avg       0.97      0.94      0.96     71202\n",
            "weighted avg       1.00      1.00      1.00     71202\n",
            "\n"
          ]
        }
      ],
      "source": [
        "from xgboost import XGBClassifier\n",
        "\n",
        "xgb = XGBClassifier()\n",
        "xgb.fit(X_train, y_train)\n",
        "y_pred = xgb.predict(X_test)\n",
        "\n",
        "print(classification_report(y_test, y_pred))"
      ]
    },
    {
      "cell_type": "markdown",
      "source": [
        "The performance of both Classification methods would be best described as *fair*. Not bad, but we expect a score much closer to 1.0 from supervised learning methods."
      ],
      "metadata": {
        "id": "tMhqzmkAgzVN"
      }
    },
    {
      "cell_type": "markdown",
      "source": [
        "### Anomaly Detection (Unsupervised)\n",
        "\n",
        "The objective of unsupervised anomaly detection is not so much designating a sample as anomalous as it is to flag those samples that merit further investigation.\n",
        "\n",
        "#### Mahalanobis Distance"
      ],
      "metadata": {
        "id": "r-ZJpWrAhUg2"
      }
    },
    {
      "cell_type": "code",
      "source": [
        "from sklearn.covariance import EllipticEnvelope\n",
        "\n",
        "# Begin by defining the elliptic envelope\n",
        "el = EllipticEnvelope(store_precision=True, # default\n",
        "                                 assume_centered=True, # standardized data\n",
        "                                 support_fraction=None, # default\n",
        "                                 contamination=cntmn, # our estimate above\n",
        "                                 random_state=9999 # for reproducibility\n",
        ")\n",
        "\n",
        "el.fit(X_train) # Fit the training set"
      ],
      "metadata": {
        "colab": {
          "base_uri": "https://localhost:8080/"
        },
        "id": "DSaIsWyehe_F",
        "outputId": "455c5f11-67f0-428d-cf81-7de833df1ac5"
      },
      "execution_count": 24,
      "outputs": [
        {
          "output_type": "stream",
          "name": "stderr",
          "text": [
            "/usr/local/lib/python3.7/dist-packages/sklearn/covariance/_robust_covariance.py:189: RuntimeWarning: Determinant has increased; this should not happen: log(det) > log(previous_det) (-203.496645576908833 > -312.790619519540144). You may want to try with a higher value of support_fraction (current value: 0.501).\n",
            "  RuntimeWarning,\n",
            "/usr/local/lib/python3.7/dist-packages/sklearn/covariance/_robust_covariance.py:189: RuntimeWarning: Determinant has increased; this should not happen: log(det) > log(previous_det) (-287.376647849863673 > -289.135163689382580). You may want to try with a higher value of support_fraction (current value: 0.501).\n",
            "  RuntimeWarning,\n",
            "/usr/local/lib/python3.7/dist-packages/sklearn/covariance/_robust_covariance.py:189: RuntimeWarning: Determinant has increased; this should not happen: log(det) > log(previous_det) (-250.809978013990701 > -305.467120977077343). You may want to try with a higher value of support_fraction (current value: 0.501).\n",
            "  RuntimeWarning,\n",
            "/usr/local/lib/python3.7/dist-packages/sklearn/covariance/_robust_covariance.py:189: RuntimeWarning: Determinant has increased; this should not happen: log(det) > log(previous_det) (-285.995521752843899 > -289.900859535256075). You may want to try with a higher value of support_fraction (current value: 0.501).\n",
            "  RuntimeWarning,\n",
            "/usr/local/lib/python3.7/dist-packages/sklearn/covariance/_robust_covariance.py:189: RuntimeWarning: Determinant has increased; this should not happen: log(det) > log(previous_det) (-102.491094342187779 > -305.146282517401858). You may want to try with a higher value of support_fraction (current value: 0.501).\n",
            "  RuntimeWarning,\n",
            "/usr/local/lib/python3.7/dist-packages/sklearn/covariance/_robust_covariance.py:189: RuntimeWarning: Determinant has increased; this should not happen: log(det) > log(previous_det) (-204.836667530954941 > -312.312586315052215). You may want to try with a higher value of support_fraction (current value: 0.501).\n",
            "  RuntimeWarning,\n",
            "/usr/local/lib/python3.7/dist-packages/sklearn/covariance/_robust_covariance.py:189: RuntimeWarning: Determinant has increased; this should not happen: log(det) > log(previous_det) (-222.228430999950888 > -276.764135674453769). You may want to try with a higher value of support_fraction (current value: 0.501).\n",
            "  RuntimeWarning,\n",
            "/usr/local/lib/python3.7/dist-packages/sklearn/covariance/_robust_covariance.py:189: RuntimeWarning: Determinant has increased; this should not happen: log(det) > log(previous_det) (-190.717289579438557 > -271.088049098250963). You may want to try with a higher value of support_fraction (current value: 0.501).\n",
            "  RuntimeWarning,\n",
            "/usr/local/lib/python3.7/dist-packages/sklearn/covariance/_robust_covariance.py:189: RuntimeWarning: Determinant has increased; this should not happen: log(det) > log(previous_det) (-253.864740131727274 > -254.540717370003307). You may want to try with a higher value of support_fraction (current value: 0.501).\n",
            "  RuntimeWarning,\n",
            "/usr/local/lib/python3.7/dist-packages/sklearn/covariance/_robust_covariance.py:189: RuntimeWarning: Determinant has increased; this should not happen: log(det) > log(previous_det) (-174.666994110875066 > -175.897163776782492). You may want to try with a higher value of support_fraction (current value: 0.501).\n",
            "  RuntimeWarning,\n",
            "/usr/local/lib/python3.7/dist-packages/sklearn/covariance/_robust_covariance.py:189: RuntimeWarning: Determinant has increased; this should not happen: log(det) > log(previous_det) (-244.556383206941661 > -273.054354364057644). You may want to try with a higher value of support_fraction (current value: 0.501).\n",
            "  RuntimeWarning,\n",
            "/usr/local/lib/python3.7/dist-packages/sklearn/covariance/_robust_covariance.py:189: RuntimeWarning: Determinant has increased; this should not happen: log(det) > log(previous_det) (-189.472535072935159 > -271.691456711975434). You may want to try with a higher value of support_fraction (current value: 0.501).\n",
            "  RuntimeWarning,\n",
            "/usr/local/lib/python3.7/dist-packages/sklearn/covariance/_robust_covariance.py:189: RuntimeWarning: Determinant has increased; this should not happen: log(det) > log(previous_det) (-254.886555392105208 > -255.088185315456059). You may want to try with a higher value of support_fraction (current value: 0.501).\n",
            "  RuntimeWarning,\n",
            "/usr/local/lib/python3.7/dist-packages/sklearn/covariance/_robust_covariance.py:189: RuntimeWarning: Determinant has increased; this should not happen: log(det) > log(previous_det) (-192.897854353666389 > -312.135803702309545). You may want to try with a higher value of support_fraction (current value: 0.501).\n",
            "  RuntimeWarning,\n",
            "/usr/local/lib/python3.7/dist-packages/sklearn/covariance/_robust_covariance.py:189: RuntimeWarning: Determinant has increased; this should not happen: log(det) > log(previous_det) (-253.665045877863406 > -258.085509817781769). You may want to try with a higher value of support_fraction (current value: 0.501).\n",
            "  RuntimeWarning,\n",
            "/usr/local/lib/python3.7/dist-packages/sklearn/covariance/_robust_covariance.py:189: RuntimeWarning: Determinant has increased; this should not happen: log(det) > log(previous_det) (-102.824788731731644 > -303.193533879551069). You may want to try with a higher value of support_fraction (current value: 0.501).\n",
            "  RuntimeWarning,\n",
            "/usr/local/lib/python3.7/dist-packages/sklearn/covariance/_robust_covariance.py:189: RuntimeWarning: Determinant has increased; this should not happen: log(det) > log(previous_det) (-253.139148532141661 > -280.135419070609942). You may want to try with a higher value of support_fraction (current value: 0.501).\n",
            "  RuntimeWarning,\n",
            "/usr/local/lib/python3.7/dist-packages/sklearn/covariance/_robust_covariance.py:189: RuntimeWarning: Determinant has increased; this should not happen: log(det) > log(previous_det) (-197.515319617961097 > -198.159742023472575). You may want to try with a higher value of support_fraction (current value: 0.501).\n",
            "  RuntimeWarning,\n",
            "/usr/local/lib/python3.7/dist-packages/sklearn/covariance/_robust_covariance.py:189: RuntimeWarning: Determinant has increased; this should not happen: log(det) > log(previous_det) (-189.829319698272002 > -276.553483058156360). You may want to try with a higher value of support_fraction (current value: 0.501).\n",
            "  RuntimeWarning,\n",
            "/usr/local/lib/python3.7/dist-packages/sklearn/covariance/_robust_covariance.py:189: RuntimeWarning: Determinant has increased; this should not happen: log(det) > log(previous_det) (-171.252773529092508 > -173.440920469474804). You may want to try with a higher value of support_fraction (current value: 0.501).\n",
            "  RuntimeWarning,\n",
            "/usr/local/lib/python3.7/dist-packages/sklearn/covariance/_robust_covariance.py:189: RuntimeWarning: Determinant has increased; this should not happen: log(det) > log(previous_det) (-287.998580988377512 > -289.669733268167022). You may want to try with a higher value of support_fraction (current value: 0.501).\n",
            "  RuntimeWarning,\n",
            "/usr/local/lib/python3.7/dist-packages/sklearn/covariance/_robust_covariance.py:189: RuntimeWarning: Determinant has increased; this should not happen: log(det) > log(previous_det) (-223.659708647909667 > -276.845177787309240). You may want to try with a higher value of support_fraction (current value: 0.501).\n",
            "  RuntimeWarning,\n",
            "/usr/local/lib/python3.7/dist-packages/sklearn/covariance/_robust_covariance.py:189: RuntimeWarning: Determinant has increased; this should not happen: log(det) > log(previous_det) (-250.809978013990701 > -333.731659983938073). You may want to try with a higher value of support_fraction (current value: 0.501).\n",
            "  RuntimeWarning,\n",
            "/usr/local/lib/python3.7/dist-packages/sklearn/covariance/_robust_covariance.py:189: RuntimeWarning: Determinant has increased; this should not happen: log(det) > log(previous_det) (-202.746756389462149 > -311.618483126430931). You may want to try with a higher value of support_fraction (current value: 0.501).\n",
            "  RuntimeWarning,\n",
            "/usr/local/lib/python3.7/dist-packages/sklearn/covariance/_robust_covariance.py:189: RuntimeWarning: Determinant has increased; this should not happen: log(det) > log(previous_det) (-177.521127383221369 > -177.963850201877023). You may want to try with a higher value of support_fraction (current value: 0.501).\n",
            "  RuntimeWarning,\n",
            "/usr/local/lib/python3.7/dist-packages/sklearn/covariance/_robust_covariance.py:189: RuntimeWarning: Determinant has increased; this should not happen: log(det) > log(previous_det) (-206.140084627856538 > -313.699147343906532). You may want to try with a higher value of support_fraction (current value: 0.501).\n",
            "  RuntimeWarning,\n",
            "/usr/local/lib/python3.7/dist-packages/sklearn/covariance/_robust_covariance.py:189: RuntimeWarning: Determinant has increased; this should not happen: log(det) > log(previous_det) (-105.378552397567375 > -301.360268113893198). You may want to try with a higher value of support_fraction (current value: 0.501).\n",
            "  RuntimeWarning,\n",
            "/usr/local/lib/python3.7/dist-packages/sklearn/covariance/_robust_covariance.py:189: RuntimeWarning: Determinant has increased; this should not happen: log(det) > log(previous_det) (-206.140084627856538 > -311.810168469179530). You may want to try with a higher value of support_fraction (current value: 0.501).\n",
            "  RuntimeWarning,\n",
            "/usr/local/lib/python3.7/dist-packages/sklearn/covariance/_robust_covariance.py:189: RuntimeWarning: Determinant has increased; this should not happen: log(det) > log(previous_det) (-286.453375912997444 > -286.612002669926710). You may want to try with a higher value of support_fraction (current value: 0.501).\n",
            "  RuntimeWarning,\n",
            "/usr/local/lib/python3.7/dist-packages/sklearn/covariance/_robust_covariance.py:189: RuntimeWarning: Determinant has increased; this should not happen: log(det) > log(previous_det) (-222.109253688397729 > -282.330890297549672). You may want to try with a higher value of support_fraction (current value: 0.501).\n",
            "  RuntimeWarning,\n",
            "/usr/local/lib/python3.7/dist-packages/sklearn/covariance/_robust_covariance.py:189: RuntimeWarning: Determinant has increased; this should not happen: log(det) > log(previous_det) (-255.778002519965185 > -257.231394020102584). You may want to try with a higher value of support_fraction (current value: 0.501).\n",
            "  RuntimeWarning,\n",
            "/usr/local/lib/python3.7/dist-packages/sklearn/covariance/_robust_covariance.py:189: RuntimeWarning: Determinant has increased; this should not happen: log(det) > log(previous_det) (-243.517706171014112 > -244.541058156441494). You may want to try with a higher value of support_fraction (current value: 0.501).\n",
            "  RuntimeWarning,\n",
            "/usr/local/lib/python3.7/dist-packages/sklearn/covariance/_robust_covariance.py:189: RuntimeWarning: Determinant has increased; this should not happen: log(det) > log(previous_det) (-163.208095483569650 > -276.365648146906324). You may want to try with a higher value of support_fraction (current value: 0.501).\n",
            "  RuntimeWarning,\n",
            "/usr/local/lib/python3.7/dist-packages/sklearn/covariance/_robust_covariance.py:189: RuntimeWarning: Determinant has increased; this should not happen: log(det) > log(previous_det) (-285.080901156842856 > -286.698636151046230). You may want to try with a higher value of support_fraction (current value: 0.501).\n",
            "  RuntimeWarning,\n",
            "/usr/local/lib/python3.7/dist-packages/sklearn/covariance/_robust_covariance.py:189: RuntimeWarning: Determinant has increased; this should not happen: log(det) > log(previous_det) (-257.940057772847638 > -311.682799176756077). You may want to try with a higher value of support_fraction (current value: 0.501).\n",
            "  RuntimeWarning,\n",
            "/usr/local/lib/python3.7/dist-packages/sklearn/covariance/_robust_covariance.py:189: RuntimeWarning: Determinant has increased; this should not happen: log(det) > log(previous_det) (-218.285573966646012 > -309.361308893420869). You may want to try with a higher value of support_fraction (current value: 0.501).\n",
            "  RuntimeWarning,\n",
            "/usr/local/lib/python3.7/dist-packages/sklearn/covariance/_robust_covariance.py:189: RuntimeWarning: Determinant has increased; this should not happen: log(det) > log(previous_det) (-203.563874036107450 > -309.991841201317641). You may want to try with a higher value of support_fraction (current value: 0.501).\n",
            "  RuntimeWarning,\n",
            "/usr/local/lib/python3.7/dist-packages/sklearn/covariance/_robust_covariance.py:189: RuntimeWarning: Determinant has increased; this should not happen: log(det) > log(previous_det) (-189.740179374456346 > -275.931691709731240). You may want to try with a higher value of support_fraction (current value: 0.501).\n",
            "  RuntimeWarning,\n",
            "/usr/local/lib/python3.7/dist-packages/sklearn/covariance/_robust_covariance.py:189: RuntimeWarning: Determinant has increased; this should not happen: log(det) > log(previous_det) (-160.591369232044713 > -301.032789619652135). You may want to try with a higher value of support_fraction (current value: 0.501).\n",
            "  RuntimeWarning,\n",
            "/usr/local/lib/python3.7/dist-packages/sklearn/covariance/_robust_covariance.py:189: RuntimeWarning: Determinant has increased; this should not happen: log(det) > log(previous_det) (-218.516330375074062 > -248.645780092306921). You may want to try with a higher value of support_fraction (current value: 0.501).\n",
            "  RuntimeWarning,\n",
            "/usr/local/lib/python3.7/dist-packages/sklearn/covariance/_robust_covariance.py:189: RuntimeWarning: Determinant has increased; this should not happen: log(det) > log(previous_det) (-222.591821745499118 > -313.958479091296510). You may want to try with a higher value of support_fraction (current value: 0.501).\n",
            "  RuntimeWarning,\n",
            "/usr/local/lib/python3.7/dist-packages/sklearn/covariance/_robust_covariance.py:189: RuntimeWarning: Determinant has increased; this should not happen: log(det) > log(previous_det) (-196.173758752854212 > -196.397158498096474). You may want to try with a higher value of support_fraction (current value: 0.501).\n",
            "  RuntimeWarning,\n",
            "/usr/local/lib/python3.7/dist-packages/sklearn/covariance/_robust_covariance.py:189: RuntimeWarning: Determinant has increased; this should not happen: log(det) > log(previous_det) (-192.308585960447061 > -272.799127262669572). You may want to try with a higher value of support_fraction (current value: 0.501).\n",
            "  RuntimeWarning,\n",
            "/usr/local/lib/python3.7/dist-packages/sklearn/covariance/_robust_covariance.py:189: RuntimeWarning: Determinant has increased; this should not happen: log(det) > log(previous_det) (-257.940057772847638 > -315.274464337190182). You may want to try with a higher value of support_fraction (current value: 0.501).\n",
            "  RuntimeWarning,\n",
            "/usr/local/lib/python3.7/dist-packages/sklearn/covariance/_robust_covariance.py:189: RuntimeWarning: Determinant has increased; this should not happen: log(det) > log(previous_det) (-219.134847892306595 > -304.839849786208276). You may want to try with a higher value of support_fraction (current value: 0.501).\n",
            "  RuntimeWarning,\n",
            "/usr/local/lib/python3.7/dist-packages/sklearn/covariance/_robust_covariance.py:189: RuntimeWarning: Determinant has increased; this should not happen: log(det) > log(previous_det) (-218.178793416495353 > -219.658783080527115). You may want to try with a higher value of support_fraction (current value: 0.501).\n",
            "  RuntimeWarning,\n",
            "/usr/local/lib/python3.7/dist-packages/sklearn/covariance/_robust_covariance.py:189: RuntimeWarning: Determinant has increased; this should not happen: log(det) > log(previous_det) (-248.919349270708153 > -254.669395342010972). You may want to try with a higher value of support_fraction (current value: 0.501).\n",
            "  RuntimeWarning,\n",
            "/usr/local/lib/python3.7/dist-packages/sklearn/covariance/_robust_covariance.py:189: RuntimeWarning: Determinant has increased; this should not happen: log(det) > log(previous_det) (-222.591821745499118 > -313.105351175246710). You may want to try with a higher value of support_fraction (current value: 0.501).\n",
            "  RuntimeWarning,\n",
            "/usr/local/lib/python3.7/dist-packages/sklearn/covariance/_robust_covariance.py:189: RuntimeWarning: Determinant has increased; this should not happen: log(det) > log(previous_det) (-287.167299464105838 > -287.874251488630080). You may want to try with a higher value of support_fraction (current value: 0.501).\n",
            "  RuntimeWarning,\n",
            "/usr/local/lib/python3.7/dist-packages/sklearn/covariance/_robust_covariance.py:189: RuntimeWarning: Determinant has increased; this should not happen: log(det) > log(previous_det) (-201.354229339408192 > -202.492143800419683). You may want to try with a higher value of support_fraction (current value: 0.501).\n",
            "  RuntimeWarning,\n",
            "/usr/local/lib/python3.7/dist-packages/sklearn/covariance/_robust_covariance.py:189: RuntimeWarning: Determinant has increased; this should not happen: log(det) > log(previous_det) (-203.994157302115639 > -312.029491627488653). You may want to try with a higher value of support_fraction (current value: 0.501).\n",
            "  RuntimeWarning,\n",
            "/usr/local/lib/python3.7/dist-packages/sklearn/covariance/_robust_covariance.py:189: RuntimeWarning: Determinant has increased; this should not happen: log(det) > log(previous_det) (-209.284561559279297 > -210.437624325474388). You may want to try with a higher value of support_fraction (current value: 0.501).\n",
            "  RuntimeWarning,\n",
            "/usr/local/lib/python3.7/dist-packages/sklearn/covariance/_robust_covariance.py:189: RuntimeWarning: Determinant has increased; this should not happen: log(det) > log(previous_det) (-252.327310579716084 > -252.842528618654626). You may want to try with a higher value of support_fraction (current value: 0.501).\n",
            "  RuntimeWarning,\n",
            "/usr/local/lib/python3.7/dist-packages/sklearn/covariance/_robust_covariance.py:189: RuntimeWarning: Determinant has increased; this should not happen: log(det) > log(previous_det) (-287.376647849863673 > -292.964960190680188). You may want to try with a higher value of support_fraction (current value: 0.501).\n",
            "  RuntimeWarning,\n",
            "/usr/local/lib/python3.7/dist-packages/sklearn/covariance/_robust_covariance.py:189: RuntimeWarning: Determinant has increased; this should not happen: log(det) > log(previous_det) (-244.959340981989783 > -309.569531092009356). You may want to try with a higher value of support_fraction (current value: 0.501).\n",
            "  RuntimeWarning,\n",
            "/usr/local/lib/python3.7/dist-packages/sklearn/covariance/_robust_covariance.py:189: RuntimeWarning: Determinant has increased; this should not happen: log(det) > log(previous_det) (-204.490727714076115 > -311.175795716739515). You may want to try with a higher value of support_fraction (current value: 0.501).\n",
            "  RuntimeWarning,\n",
            "/usr/local/lib/python3.7/dist-packages/sklearn/covariance/_robust_covariance.py:189: RuntimeWarning: Determinant has increased; this should not happen: log(det) > log(previous_det) (-241.114899329870070 > -242.777705341432494). You may want to try with a higher value of support_fraction (current value: 0.501).\n",
            "  RuntimeWarning,\n",
            "/usr/local/lib/python3.7/dist-packages/sklearn/covariance/_robust_covariance.py:189: RuntimeWarning: Determinant has increased; this should not happen: log(det) > log(previous_det) (-194.143665093910613 > -254.118307954381663). You may want to try with a higher value of support_fraction (current value: 0.501).\n",
            "  RuntimeWarning,\n",
            "/usr/local/lib/python3.7/dist-packages/sklearn/covariance/_robust_covariance.py:189: RuntimeWarning: Determinant has increased; this should not happen: log(det) > log(previous_det) (-203.496645576908833 > -311.121059438044995). You may want to try with a higher value of support_fraction (current value: 0.501).\n",
            "  RuntimeWarning,\n",
            "/usr/local/lib/python3.7/dist-packages/sklearn/covariance/_robust_covariance.py:189: RuntimeWarning: Determinant has increased; this should not happen: log(det) > log(previous_det) (-187.718248467471057 > -275.307546354863746). You may want to try with a higher value of support_fraction (current value: 0.501).\n",
            "  RuntimeWarning,\n",
            "/usr/local/lib/python3.7/dist-packages/sklearn/covariance/_robust_covariance.py:189: RuntimeWarning: Determinant has increased; this should not happen: log(det) > log(previous_det) (-249.312477530954283 > -251.035948811681550). You may want to try with a higher value of support_fraction (current value: 0.501).\n",
            "  RuntimeWarning,\n",
            "/usr/local/lib/python3.7/dist-packages/sklearn/covariance/_robust_covariance.py:189: RuntimeWarning: Determinant has increased; this should not happen: log(det) > log(previous_det) (-286.245221824449459 > -287.232515091958305). You may want to try with a higher value of support_fraction (current value: 0.501).\n",
            "  RuntimeWarning,\n",
            "/usr/local/lib/python3.7/dist-packages/sklearn/covariance/_robust_covariance.py:189: RuntimeWarning: Determinant has increased; this should not happen: log(det) > log(previous_det) (-103.648634833248110 > -305.893513312784705). You may want to try with a higher value of support_fraction (current value: 0.501).\n",
            "  RuntimeWarning,\n",
            "/usr/local/lib/python3.7/dist-packages/sklearn/covariance/_robust_covariance.py:189: RuntimeWarning: Determinant has increased; this should not happen: log(det) > log(previous_det) (-221.693238614564876 > -305.095490880748400). You may want to try with a higher value of support_fraction (current value: 0.501).\n",
            "  RuntimeWarning,\n",
            "/usr/local/lib/python3.7/dist-packages/sklearn/covariance/_robust_covariance.py:189: RuntimeWarning: Determinant has increased; this should not happen: log(det) > log(previous_det) (-288.789724959515354 > -289.700560166538537). You may want to try with a higher value of support_fraction (current value: 0.501).\n",
            "  RuntimeWarning,\n",
            "/usr/local/lib/python3.7/dist-packages/sklearn/covariance/_robust_covariance.py:189: RuntimeWarning: Determinant has increased; this should not happen: log(det) > log(previous_det) (-255.317965551765838 > -256.544010261066148). You may want to try with a higher value of support_fraction (current value: 0.501).\n",
            "  RuntimeWarning,\n",
            "/usr/local/lib/python3.7/dist-packages/sklearn/covariance/_robust_covariance.py:189: RuntimeWarning: Determinant has increased; this should not happen: log(det) > log(previous_det) (-173.442250482605914 > -175.403250051294094). You may want to try with a higher value of support_fraction (current value: 0.501).\n",
            "  RuntimeWarning,\n",
            "/usr/local/lib/python3.7/dist-packages/sklearn/covariance/_robust_covariance.py:189: RuntimeWarning: Determinant has increased; this should not happen: log(det) > log(previous_det) (-245.691162039071088 > -248.861020122598916). You may want to try with a higher value of support_fraction (current value: 0.501).\n",
            "  RuntimeWarning,\n",
            "/usr/local/lib/python3.7/dist-packages/sklearn/covariance/_robust_covariance.py:189: RuntimeWarning: Determinant has increased; this should not happen: log(det) > log(previous_det) (-203.941302757985824 > -204.074363028131557). You may want to try with a higher value of support_fraction (current value: 0.501).\n",
            "  RuntimeWarning,\n",
            "/usr/local/lib/python3.7/dist-packages/sklearn/covariance/_robust_covariance.py:189: RuntimeWarning: Determinant has increased; this should not happen: log(det) > log(previous_det) (-191.849548907686568 > -271.561492001391343). You may want to try with a higher value of support_fraction (current value: 0.501).\n",
            "  RuntimeWarning,\n",
            "/usr/local/lib/python3.7/dist-packages/sklearn/covariance/_robust_covariance.py:189: RuntimeWarning: Determinant has increased; this should not happen: log(det) > log(previous_det) (-253.178869663605809 > -253.852093323266217). You may want to try with a higher value of support_fraction (current value: 0.501).\n",
            "  RuntimeWarning,\n",
            "/usr/local/lib/python3.7/dist-packages/sklearn/covariance/_robust_covariance.py:189: RuntimeWarning: Determinant has increased; this should not happen: log(det) > log(previous_det) (-204.836667530954941 > -311.445626878225653). You may want to try with a higher value of support_fraction (current value: 0.501).\n",
            "  RuntimeWarning,\n",
            "/usr/local/lib/python3.7/dist-packages/sklearn/covariance/_robust_covariance.py:189: RuntimeWarning: Determinant has increased; this should not happen: log(det) > log(previous_det) (-283.467233303910120 > -283.568173772395085). You may want to try with a higher value of support_fraction (current value: 0.501).\n",
            "  RuntimeWarning,\n",
            "/usr/local/lib/python3.7/dist-packages/sklearn/covariance/_robust_covariance.py:189: RuntimeWarning: Determinant has increased; this should not happen: log(det) > log(previous_det) (-280.675048854722434 > -285.191204917634195). You may want to try with a higher value of support_fraction (current value: 0.501).\n",
            "  RuntimeWarning,\n",
            "/usr/local/lib/python3.7/dist-packages/sklearn/covariance/_robust_covariance.py:189: RuntimeWarning: Determinant has increased; this should not happen: log(det) > log(previous_det) (-287.578134631059129 > -291.280463916152314). You may want to try with a higher value of support_fraction (current value: 0.501).\n",
            "  RuntimeWarning,\n",
            "/usr/local/lib/python3.7/dist-packages/sklearn/covariance/_robust_covariance.py:189: RuntimeWarning: Determinant has increased; this should not happen: log(det) > log(previous_det) (-282.402108671582369 > -312.704450548933210). You may want to try with a higher value of support_fraction (current value: 0.501).\n",
            "  RuntimeWarning,\n",
            "/usr/local/lib/python3.7/dist-packages/sklearn/covariance/_robust_covariance.py:189: RuntimeWarning: Determinant has increased; this should not happen: log(det) > log(previous_det) (-279.637551784895265 > -312.842935587751185). You may want to try with a higher value of support_fraction (current value: 0.501).\n",
            "  RuntimeWarning,\n",
            "/usr/local/lib/python3.7/dist-packages/sklearn/covariance/_robust_covariance.py:189: RuntimeWarning: Determinant has increased; this should not happen: log(det) > log(previous_det) (-189.364222340542597 > -189.693621204105767). You may want to try with a higher value of support_fraction (current value: 0.501).\n",
            "  RuntimeWarning,\n",
            "/usr/local/lib/python3.7/dist-packages/sklearn/covariance/_robust_covariance.py:189: RuntimeWarning: Determinant has increased; this should not happen: log(det) > log(previous_det) (-194.622889849867875 > -195.937830250364982). You may want to try with a higher value of support_fraction (current value: 0.501).\n",
            "  RuntimeWarning,\n",
            "/usr/local/lib/python3.7/dist-packages/sklearn/covariance/_robust_covariance.py:189: RuntimeWarning: Determinant has increased; this should not happen: log(det) > log(previous_det) (-219.968484753605310 > -245.092608447651202). You may want to try with a higher value of support_fraction (current value: 0.501).\n",
            "  RuntimeWarning,\n",
            "/usr/local/lib/python3.7/dist-packages/sklearn/covariance/_robust_covariance.py:189: RuntimeWarning: Determinant has increased; this should not happen: log(det) > log(previous_det) (-103.205549464415583 > -301.564731616519623). You may want to try with a higher value of support_fraction (current value: 0.501).\n",
            "  RuntimeWarning,\n",
            "/usr/local/lib/python3.7/dist-packages/sklearn/covariance/_robust_covariance.py:189: RuntimeWarning: Determinant has increased; this should not happen: log(det) > log(previous_det) (-252.345810951338024 > -253.974184644535654). You may want to try with a higher value of support_fraction (current value: 0.501).\n",
            "  RuntimeWarning,\n",
            "/usr/local/lib/python3.7/dist-packages/sklearn/covariance/_robust_covariance.py:189: RuntimeWarning: Determinant has increased; this should not happen: log(det) > log(previous_det) (-256.988551042964389 > -279.827126886252927). You may want to try with a higher value of support_fraction (current value: 0.501).\n",
            "  RuntimeWarning,\n",
            "/usr/local/lib/python3.7/dist-packages/sklearn/covariance/_robust_covariance.py:189: RuntimeWarning: Determinant has increased; this should not happen: log(det) > log(previous_det) (-220.102963551359863 > -312.172428996712824). You may want to try with a higher value of support_fraction (current value: 0.501).\n",
            "  RuntimeWarning,\n",
            "/usr/local/lib/python3.7/dist-packages/sklearn/covariance/_robust_covariance.py:189: RuntimeWarning: Determinant has increased; this should not happen: log(det) > log(previous_det) (-281.752741969683484 > -317.910899012437881). You may want to try with a higher value of support_fraction (current value: 0.501).\n",
            "  RuntimeWarning,\n",
            "/usr/local/lib/python3.7/dist-packages/sklearn/covariance/_robust_covariance.py:189: RuntimeWarning: Determinant has increased; this should not happen: log(det) > log(previous_det) (-217.648380942088693 > -222.891466238187036). You may want to try with a higher value of support_fraction (current value: 0.501).\n",
            "  RuntimeWarning,\n",
            "/usr/local/lib/python3.7/dist-packages/sklearn/covariance/_robust_covariance.py:189: RuntimeWarning: Determinant has increased; this should not happen: log(det) > log(previous_det) (-249.586733977911649 > -314.698448704949442). You may want to try with a higher value of support_fraction (current value: 0.501).\n",
            "  RuntimeWarning,\n",
            "/usr/local/lib/python3.7/dist-packages/sklearn/covariance/_robust_covariance.py:189: RuntimeWarning: Determinant has increased; this should not happen: log(det) > log(previous_det) (-220.211850061132850 > -312.814390763458562). You may want to try with a higher value of support_fraction (current value: 0.501).\n",
            "  RuntimeWarning,\n",
            "/usr/local/lib/python3.7/dist-packages/sklearn/covariance/_robust_covariance.py:189: RuntimeWarning: Determinant has increased; this should not happen: log(det) > log(previous_det) (-280.350307448945387 > -282.192499058436965). You may want to try with a higher value of support_fraction (current value: 0.501).\n",
            "  RuntimeWarning,\n",
            "/usr/local/lib/python3.7/dist-packages/sklearn/covariance/_robust_covariance.py:189: RuntimeWarning: Determinant has increased; this should not happen: log(det) > log(previous_det) (-103.080519106340191 > -300.662118239161771). You may want to try with a higher value of support_fraction (current value: 0.501).\n",
            "  RuntimeWarning,\n",
            "/usr/local/lib/python3.7/dist-packages/sklearn/covariance/_robust_covariance.py:189: RuntimeWarning: Determinant has increased; this should not happen: log(det) > log(previous_det) (-220.200459428973573 > -308.996344382803272). You may want to try with a higher value of support_fraction (current value: 0.501).\n",
            "  RuntimeWarning,\n",
            "/usr/local/lib/python3.7/dist-packages/sklearn/covariance/_robust_covariance.py:189: RuntimeWarning: Determinant has increased; this should not happen: log(det) > log(previous_det) (-251.322521996541042 > -276.385153522871462). You may want to try with a higher value of support_fraction (current value: 0.501).\n",
            "  RuntimeWarning,\n",
            "/usr/local/lib/python3.7/dist-packages/sklearn/covariance/_robust_covariance.py:189: RuntimeWarning: Determinant has increased; this should not happen: log(det) > log(previous_det) (-284.207128697565338 > -286.986596281624543). You may want to try with a higher value of support_fraction (current value: 0.501).\n",
            "  RuntimeWarning,\n",
            "/usr/local/lib/python3.7/dist-packages/sklearn/covariance/_robust_covariance.py:189: RuntimeWarning: Determinant has increased; this should not happen: log(det) > log(previous_det) (-279.493907523113819 > -316.193560010902615). You may want to try with a higher value of support_fraction (current value: 0.501).\n",
            "  RuntimeWarning,\n",
            "/usr/local/lib/python3.7/dist-packages/sklearn/covariance/_robust_covariance.py:189: RuntimeWarning: Determinant has increased; this should not happen: log(det) > log(previous_det) (-224.370475814380796 > -278.407393340808540). You may want to try with a higher value of support_fraction (current value: 0.501).\n",
            "  RuntimeWarning,\n",
            "/usr/local/lib/python3.7/dist-packages/sklearn/covariance/_robust_covariance.py:189: RuntimeWarning: Determinant has increased; this should not happen: log(det) > log(previous_det) (-215.934219773585397 > -250.746335177401960). You may want to try with a higher value of support_fraction (current value: 0.501).\n",
            "  RuntimeWarning,\n",
            "/usr/local/lib/python3.7/dist-packages/sklearn/covariance/_robust_covariance.py:189: RuntimeWarning: Determinant has increased; this should not happen: log(det) > log(previous_det) (-252.830539558645739 > -312.009173107764184). You may want to try with a higher value of support_fraction (current value: 0.501).\n",
            "  RuntimeWarning,\n",
            "/usr/local/lib/python3.7/dist-packages/sklearn/covariance/_robust_covariance.py:189: RuntimeWarning: Determinant has increased; this should not happen: log(det) > log(previous_det) (-288.064091171632924 > -288.725311375157560). You may want to try with a higher value of support_fraction (current value: 0.501).\n",
            "  RuntimeWarning,\n",
            "/usr/local/lib/python3.7/dist-packages/sklearn/covariance/_robust_covariance.py:189: RuntimeWarning: Determinant has increased; this should not happen: log(det) > log(previous_det) (-255.336687708671406 > -256.453595841867127). You may want to try with a higher value of support_fraction (current value: 0.501).\n",
            "  RuntimeWarning,\n",
            "/usr/local/lib/python3.7/dist-packages/sklearn/covariance/_robust_covariance.py:189: RuntimeWarning: Determinant has increased; this should not happen: log(det) > log(previous_det) (-164.953657485955659 > -274.702003027892601). You may want to try with a higher value of support_fraction (current value: 0.501).\n",
            "  RuntimeWarning,\n",
            "/usr/local/lib/python3.7/dist-packages/sklearn/covariance/_robust_covariance.py:189: RuntimeWarning: Determinant has increased; this should not happen: log(det) > log(previous_det) (-242.052720300427893 > -248.416181696192382). You may want to try with a higher value of support_fraction (current value: 0.501).\n",
            "  RuntimeWarning,\n",
            "/usr/local/lib/python3.7/dist-packages/sklearn/covariance/_robust_covariance.py:189: RuntimeWarning: Determinant has increased; this should not happen: log(det) > log(previous_det) (-284.919811185086246 > -285.587990977945253). You may want to try with a higher value of support_fraction (current value: 0.501).\n",
            "  RuntimeWarning,\n",
            "/usr/local/lib/python3.7/dist-packages/sklearn/covariance/_robust_covariance.py:189: RuntimeWarning: Determinant has increased; this should not happen: log(det) > log(previous_det) (-247.392627775443373 > -278.079759343974274). You may want to try with a higher value of support_fraction (current value: 0.501).\n",
            "  RuntimeWarning,\n",
            "/usr/local/lib/python3.7/dist-packages/sklearn/covariance/_robust_covariance.py:189: RuntimeWarning: Determinant has increased; this should not happen: log(det) > log(previous_det) (-178.607989289023180 > -180.298708263306992). You may want to try with a higher value of support_fraction (current value: 0.501).\n",
            "  RuntimeWarning,\n",
            "/usr/local/lib/python3.7/dist-packages/sklearn/covariance/_robust_covariance.py:189: RuntimeWarning: Determinant has increased; this should not happen: log(det) > log(previous_det) (-216.348699874012084 > -279.097222075849174). You may want to try with a higher value of support_fraction (current value: 0.501).\n",
            "  RuntimeWarning,\n",
            "/usr/local/lib/python3.7/dist-packages/sklearn/covariance/_robust_covariance.py:189: RuntimeWarning: Determinant has increased; this should not happen: log(det) > log(previous_det) (-226.160264609337816 > -275.147914633940900). You may want to try with a higher value of support_fraction (current value: 0.501).\n",
            "  RuntimeWarning,\n",
            "/usr/local/lib/python3.7/dist-packages/sklearn/covariance/_robust_covariance.py:189: RuntimeWarning: Determinant has increased; this should not happen: log(det) > log(previous_det) (-255.483663198168642 > -255.610815671526439). You may want to try with a higher value of support_fraction (current value: 0.501).\n",
            "  RuntimeWarning,\n",
            "/usr/local/lib/python3.7/dist-packages/sklearn/covariance/_robust_covariance.py:189: RuntimeWarning: Determinant has increased; this should not happen: log(det) > log(previous_det) (-256.937038316468374 > -257.022847015984610). You may want to try with a higher value of support_fraction (current value: 0.501).\n",
            "  RuntimeWarning,\n",
            "/usr/local/lib/python3.7/dist-packages/sklearn/covariance/_robust_covariance.py:189: RuntimeWarning: Determinant has increased; this should not happen: log(det) > log(previous_det) (-252.424909480958206 > -314.246342201664561). You may want to try with a higher value of support_fraction (current value: 0.501).\n",
            "  RuntimeWarning,\n",
            "/usr/local/lib/python3.7/dist-packages/sklearn/covariance/_robust_covariance.py:189: RuntimeWarning: Determinant has increased; this should not happen: log(det) > log(previous_det) (-262.902303017711688 > -283.143900387523900). You may want to try with a higher value of support_fraction (current value: 0.501).\n",
            "  RuntimeWarning,\n",
            "/usr/local/lib/python3.7/dist-packages/sklearn/covariance/_robust_covariance.py:189: RuntimeWarning: Determinant has increased; this should not happen: log(det) > log(previous_det) (-255.412395419703586 > -259.869723450550907). You may want to try with a higher value of support_fraction (current value: 0.501).\n",
            "  RuntimeWarning,\n",
            "/usr/local/lib/python3.7/dist-packages/sklearn/covariance/_robust_covariance.py:189: RuntimeWarning: Determinant has increased; this should not happen: log(det) > log(previous_det) (-252.830539558645739 > -316.089728060761900). You may want to try with a higher value of support_fraction (current value: 0.501).\n",
            "  RuntimeWarning,\n",
            "/usr/local/lib/python3.7/dist-packages/sklearn/covariance/_robust_covariance.py:189: RuntimeWarning: Determinant has increased; this should not happen: log(det) > log(previous_det) (-223.440545548664431 > -251.453541271313554). You may want to try with a higher value of support_fraction (current value: 0.501).\n",
            "  RuntimeWarning,\n",
            "/usr/local/lib/python3.7/dist-packages/sklearn/covariance/_robust_covariance.py:189: RuntimeWarning: Determinant has increased; this should not happen: log(det) > log(previous_det) (-251.906719199412009 > -279.957993693763967). You may want to try with a higher value of support_fraction (current value: 0.501).\n",
            "  RuntimeWarning,\n",
            "/usr/local/lib/python3.7/dist-packages/sklearn/covariance/_robust_covariance.py:189: RuntimeWarning: Determinant has increased; this should not happen: log(det) > log(previous_det) (-252.830539558645739 > -318.800554767816323). You may want to try with a higher value of support_fraction (current value: 0.501).\n",
            "  RuntimeWarning,\n",
            "/usr/local/lib/python3.7/dist-packages/sklearn/covariance/_robust_covariance.py:189: RuntimeWarning: Determinant has increased; this should not happen: log(det) > log(previous_det) (-267.952824251267941 > -280.221565705758564). You may want to try with a higher value of support_fraction (current value: 0.501).\n",
            "  RuntimeWarning,\n",
            "/usr/local/lib/python3.7/dist-packages/sklearn/covariance/_robust_covariance.py:189: RuntimeWarning: Determinant has increased; this should not happen: log(det) > log(previous_det) (-234.449385264906653 > -308.234934206680805). You may want to try with a higher value of support_fraction (current value: 0.501).\n",
            "  RuntimeWarning,\n",
            "/usr/local/lib/python3.7/dist-packages/sklearn/covariance/_robust_covariance.py:189: RuntimeWarning: Determinant has increased; this should not happen: log(det) > log(previous_det) (-197.228392660670721 > -197.737392213480973). You may want to try with a higher value of support_fraction (current value: 0.501).\n",
            "  RuntimeWarning,\n",
            "/usr/local/lib/python3.7/dist-packages/sklearn/covariance/_robust_covariance.py:189: RuntimeWarning: Determinant has increased; this should not happen: log(det) > log(previous_det) (-222.733544220330799 > -314.224814939627777). You may want to try with a higher value of support_fraction (current value: 0.501).\n",
            "  RuntimeWarning,\n",
            "/usr/local/lib/python3.7/dist-packages/sklearn/covariance/_robust_covariance.py:189: RuntimeWarning: Determinant has increased; this should not happen: log(det) > log(previous_det) (-287.574469250970310 > -289.301666402208298). You may want to try with a higher value of support_fraction (current value: 0.501).\n",
            "  RuntimeWarning,\n",
            "/usr/local/lib/python3.7/dist-packages/sklearn/covariance/_robust_covariance.py:189: RuntimeWarning: Determinant has increased; this should not happen: log(det) > log(previous_det) (-102.573750316718446 > -303.942755733652803). You may want to try with a higher value of support_fraction (current value: 0.501).\n",
            "  RuntimeWarning,\n",
            "/usr/local/lib/python3.7/dist-packages/sklearn/covariance/_robust_covariance.py:189: RuntimeWarning: Determinant has increased; this should not happen: log(det) > log(previous_det) (-251.257696171810863 > -274.988659302289875). You may want to try with a higher value of support_fraction (current value: 0.501).\n",
            "  RuntimeWarning,\n",
            "/usr/local/lib/python3.7/dist-packages/sklearn/covariance/_robust_covariance.py:189: RuntimeWarning: Determinant has increased; this should not happen: log(det) > log(previous_det) (-250.664311215501357 > -312.916872080530425). You may want to try with a higher value of support_fraction (current value: 0.501).\n",
            "  RuntimeWarning,\n",
            "/usr/local/lib/python3.7/dist-packages/sklearn/covariance/_robust_covariance.py:189: RuntimeWarning: Determinant has increased; this should not happen: log(det) > log(previous_det) (-253.661468880721117 > -278.789729633254581). You may want to try with a higher value of support_fraction (current value: 0.501).\n",
            "  RuntimeWarning,\n",
            "/usr/local/lib/python3.7/dist-packages/sklearn/covariance/_robust_covariance.py:189: RuntimeWarning: Determinant has increased; this should not happen: log(det) > log(previous_det) (-217.421856739329087 > -219.159334074847067). You may want to try with a higher value of support_fraction (current value: 0.501).\n",
            "  RuntimeWarning,\n",
            "/usr/local/lib/python3.7/dist-packages/sklearn/covariance/_robust_covariance.py:189: RuntimeWarning: Determinant has increased; this should not happen: log(det) > log(previous_det) (-202.092858571406566 > -314.205581150815760). You may want to try with a higher value of support_fraction (current value: 0.501).\n",
            "  RuntimeWarning,\n",
            "/usr/local/lib/python3.7/dist-packages/sklearn/covariance/_robust_covariance.py:189: RuntimeWarning: Determinant has increased; this should not happen: log(det) > log(previous_det) (-251.090216347159924 > -314.650311851532081). You may want to try with a higher value of support_fraction (current value: 0.501).\n",
            "  RuntimeWarning,\n",
            "/usr/local/lib/python3.7/dist-packages/sklearn/covariance/_robust_covariance.py:189: RuntimeWarning: Determinant has increased; this should not happen: log(det) > log(previous_det) (-202.092858571406566 > -307.700432224148130). You may want to try with a higher value of support_fraction (current value: 0.501).\n",
            "  RuntimeWarning,\n",
            "/usr/local/lib/python3.7/dist-packages/sklearn/covariance/_robust_covariance.py:189: RuntimeWarning: Determinant has increased; this should not happen: log(det) > log(previous_det) (-101.356375438238018 > -302.322417528036681). You may want to try with a higher value of support_fraction (current value: 0.501).\n",
            "  RuntimeWarning,\n",
            "/usr/local/lib/python3.7/dist-packages/sklearn/covariance/_robust_covariance.py:189: RuntimeWarning: Determinant has increased; this should not happen: log(det) > log(previous_det) (-186.648681076251535 > -187.015014184391845). You may want to try with a higher value of support_fraction (current value: 0.501).\n",
            "  RuntimeWarning,\n",
            "/usr/local/lib/python3.7/dist-packages/sklearn/covariance/_robust_covariance.py:189: RuntimeWarning: Determinant has increased; this should not happen: log(det) > log(previous_det) (-218.824086107043456 > -244.934351649582680). You may want to try with a higher value of support_fraction (current value: 0.501).\n",
            "  RuntimeWarning,\n",
            "/usr/local/lib/python3.7/dist-packages/sklearn/covariance/_robust_covariance.py:189: RuntimeWarning: Determinant has increased; this should not happen: log(det) > log(previous_det) (-192.412401029290550 > -277.120806997229408). You may want to try with a higher value of support_fraction (current value: 0.501).\n",
            "  RuntimeWarning,\n",
            "/usr/local/lib/python3.7/dist-packages/sklearn/covariance/_robust_covariance.py:189: RuntimeWarning: Determinant has increased; this should not happen: log(det) > log(previous_det) (-280.128376341327339 > -280.554107455509040). You may want to try with a higher value of support_fraction (current value: 0.501).\n",
            "  RuntimeWarning,\n",
            "/usr/local/lib/python3.7/dist-packages/sklearn/covariance/_robust_covariance.py:189: RuntimeWarning: Determinant has increased; this should not happen: log(det) > log(previous_det) (-154.378587039544897 > -273.447208145298077). You may want to try with a higher value of support_fraction (current value: 0.500).\n",
            "  RuntimeWarning,\n"
          ]
        },
        {
          "output_type": "execute_result",
          "data": {
            "text/plain": [
              "EllipticEnvelope(assume_centered=True, contamination=0.0017304750013189597,\n",
              "                 random_state=9999)"
            ]
          },
          "metadata": {},
          "execution_count": 24
        }
      ]
    },
    {
      "cell_type": "code",
      "source": [
        "# Generate a corresponding list of predicted anomalies\n",
        "md_anom = el.predict(X_train)"
      ],
      "metadata": {
        "id": "joqSSwc9jx30"
      },
      "execution_count": 25,
      "outputs": []
    },
    {
      "cell_type": "code",
      "source": [
        "from scipy.stats.stats import pearsonr\n",
        "\n",
        "# Compare predicted anomalies to the corresponding labels\n",
        "# by correlation\n",
        "print(pearsonr(md_anom, y_train))"
      ],
      "metadata": {
        "colab": {
          "base_uri": "https://localhost:8080/"
        },
        "id": "4Cc_vwl4kGQz",
        "outputId": "d027c903-71a3-4c22-8f71-0f7379f6109f"
      },
      "execution_count": 26,
      "outputs": [
        {
          "output_type": "stream",
          "name": "stdout",
          "text": [
            "(-0.5153767667824924, 0.0)\n"
          ]
        }
      ]
    },
    {
      "cell_type": "markdown",
      "metadata": {
        "id": "njLzDp6TXYwZ"
      },
      "source": [
        "### Machine Learning Methods\n",
        "\n",
        "#### Artificial Neural Network using Keras:"
      ]
    },
    {
      "cell_type": "code",
      "execution_count": 1,
      "metadata": {
        "colab": {
          "base_uri": "https://localhost:8080/"
        },
        "id": "oEch2PvXXYwZ",
        "outputId": "ff24db85-9707-4282-d5a6-c8bd7266deba"
      },
      "outputs": [
        {
          "output_type": "stream",
          "name": "stdout",
          "text": [
            "2.7.0\n"
          ]
        }
      ],
      "source": [
        "from tensorflow import keras\n",
        "print(keras.__version__)"
      ]
    },
    {
      "cell_type": "code",
      "execution_count": 2,
      "metadata": {
        "colab": {
          "base_uri": "https://localhost:8080/",
          "height": 239
        },
        "id": "hrZ1SZ-uXYwZ",
        "outputId": "6a11de89-e38e-4120-a8e4-8636cd37b4f3"
      },
      "outputs": [
        {
          "output_type": "error",
          "ename": "NameError",
          "evalue": "ignored",
          "traceback": [
            "\u001b[0;31m---------------------------------------------------------------------------\u001b[0m",
            "\u001b[0;31mNameError\u001b[0m                                 Traceback (most recent call last)",
            "\u001b[0;32m<ipython-input-2-c0b57076cd52>\u001b[0m in \u001b[0;36m<module>\u001b[0;34m()\u001b[0m\n\u001b[1;32m      1\u001b[0m model = keras.Sequential(\n\u001b[1;32m      2\u001b[0m     [\n\u001b[0;32m----> 3\u001b[0;31m         \u001b[0mkeras\u001b[0m\u001b[0;34m.\u001b[0m\u001b[0mlayers\u001b[0m\u001b[0;34m.\u001b[0m\u001b[0mDense\u001b[0m\u001b[0;34m(\u001b[0m\u001b[0;36m32\u001b[0m\u001b[0;34m,\u001b[0m \u001b[0mactivation\u001b[0m\u001b[0;34m=\u001b[0m\u001b[0;34m\"relu\"\u001b[0m\u001b[0;34m,\u001b[0m \u001b[0minput_shape\u001b[0m\u001b[0;34m=\u001b[0m\u001b[0;34m(\u001b[0m\u001b[0mX_train\u001b[0m\u001b[0;34m.\u001b[0m\u001b[0mshape\u001b[0m\u001b[0;34m[\u001b[0m\u001b[0;34m-\u001b[0m\u001b[0;36m1\u001b[0m\u001b[0;34m]\u001b[0m\u001b[0;34m,\u001b[0m\u001b[0;34m)\u001b[0m\u001b[0;34m)\u001b[0m\u001b[0;34m,\u001b[0m\u001b[0;34m\u001b[0m\u001b[0;34m\u001b[0m\u001b[0m\n\u001b[0m\u001b[1;32m      4\u001b[0m         \u001b[0mkeras\u001b[0m\u001b[0;34m.\u001b[0m\u001b[0mlayers\u001b[0m\u001b[0;34m.\u001b[0m\u001b[0mDense\u001b[0m\u001b[0;34m(\u001b[0m\u001b[0;36m128\u001b[0m\u001b[0;34m,\u001b[0m \u001b[0mactivation\u001b[0m\u001b[0;34m=\u001b[0m\u001b[0;34m\"relu\"\u001b[0m\u001b[0;34m)\u001b[0m\u001b[0;34m,\u001b[0m\u001b[0;34m\u001b[0m\u001b[0;34m\u001b[0m\u001b[0m\n\u001b[1;32m      5\u001b[0m         \u001b[0mkeras\u001b[0m\u001b[0;34m.\u001b[0m\u001b[0mlayers\u001b[0m\u001b[0;34m.\u001b[0m\u001b[0mDropout\u001b[0m\u001b[0;34m(\u001b[0m\u001b[0;36m0.3\u001b[0m\u001b[0;34m)\u001b[0m\u001b[0;34m,\u001b[0m\u001b[0;34m\u001b[0m\u001b[0;34m\u001b[0m\u001b[0m\n",
            "\u001b[0;31mNameError\u001b[0m: name 'X_train' is not defined"
          ]
        }
      ],
      "source": [
        "model = keras.Sequential(\n",
        "    [\n",
        "        keras.layers.Dense(32, activation=\"relu\", input_shape=(X_train.shape[-1],)),\n",
        "        keras.layers.Dense(128, activation=\"relu\"),\n",
        "        keras.layers.Dropout(0.3),\n",
        "        keras.layers.Dense(256, activation=\"relu\"),\n",
        "        keras.layers.Dropout(0.3),\n",
        "        keras.layers.Dense(1, activation=\"sigmoid\"),\n",
        "    ]\n",
        ")\n",
        "model.summary()"
      ]
    },
    {
      "cell_type": "code",
      "execution_count": null,
      "metadata": {
        "id": "bksJiyXPXYwa"
      },
      "outputs": [],
      "source": [
        "model.compile(\n",
        "    optimizer=keras.optimizers.Adam(1e-2), \n",
        "    loss=\"binary_crossentropy\", \n",
        "    metrics=[\"accuracy\"]\n",
        ")"
      ]
    },
    {
      "cell_type": "code",
      "execution_count": null,
      "metadata": {
        "id": "lcnuXOE1XYwb"
      },
      "outputs": [],
      "source": [
        "history = model.fit(\n",
        "                    X_train,\n",
        "                    y_train,\n",
        "                    batch_size=2048,\n",
        "                    epochs=30,\n",
        "                    verbose=2,\n",
        "                    validation_split = 0.2)"
      ]
    },
    {
      "cell_type": "code",
      "execution_count": null,
      "metadata": {
        "id": "YOdXZz5_XYwb"
      },
      "outputs": [],
      "source": [
        "history.history.keys()"
      ]
    },
    {
      "cell_type": "code",
      "execution_count": null,
      "metadata": {
        "id": "oXZWXasDXYwb"
      },
      "outputs": [],
      "source": [
        "results = pd.DataFrame(history.history)\n",
        "results.head(5)"
      ]
    },
    {
      "cell_type": "code",
      "execution_count": null,
      "metadata": {
        "id": "wlH9Ew6WXYwc"
      },
      "outputs": [],
      "source": [
        "plt.figure(figsize = (15,4))\n",
        "\n",
        "plt.subplot(121)\n",
        "plt.plot(results.index, results.accuracy, label=\"Training Accuracy\", linewidth=4)\n",
        "plt.plot(results.index, results.val_accuracy, label=\"Validation Accuracy\", linewidth=4)\n",
        "plt.xlabel(\"Epochs\", fontsize=15)\n",
        "plt.ylabel(\"Accuracy Score\", fontsize=15)\n",
        "plt.title(\"Training and Validation Accuracy over Epochs\" , fontsize=15)\n",
        "plt.xticks(fontsize=15)\n",
        "plt.yticks(fontsize=15)\n",
        "\n",
        "plt.subplot(122)\n",
        "plt.plot(results.index, results.loss, label=\"Training Loss\", linewidth=4)\n",
        "plt.plot(results.index, results.val_loss, label=\"Validation Loss\", linewidth=4)\n",
        "plt.xlabel(\"Epochs\", fontsize=15)\n",
        "plt.ylabel(\"Accuracy Score\", fontsize=15)\n",
        "plt.title(\"Training and Validation Loss over Epochs\", fontsize=15)\n",
        "plt.xticks(fontsize=15)\n",
        "plt.yticks(fontsize=15)"
      ]
    },
    {
      "cell_type": "markdown",
      "metadata": {
        "id": "-v8U43xDXYwc"
      },
      "source": [
        "#### Artificial Neural Network using Keras with Metrics & Weights:"
      ]
    },
    {
      "cell_type": "code",
      "execution_count": null,
      "metadata": {
        "id": "Dq6PdxAeXYwc"
      },
      "outputs": [],
      "source": [
        "counts = np.bincount(y_train)\n",
        "wt_0 = 1.0 / counts[0]\n",
        "wt_1 = 1.0 / counts[1]\n",
        "\n",
        "print(wt_0)\n",
        "print(wt_1)"
      ]
    },
    {
      "cell_type": "code",
      "execution_count": null,
      "metadata": {
        "id": "JKeJLqgMXYwd"
      },
      "outputs": [],
      "source": [
        "model_2 = keras.Sequential(\n",
        "    [\n",
        "        keras.layers.Dense(\n",
        "            256, activation=\"relu\", input_shape=(X_train.shape[-1],)\n",
        "        ),\n",
        "        keras.layers.Dense(256, activation=\"relu\"),\n",
        "        keras.layers.Dropout(0.3),\n",
        "        keras.layers.Dense(256, activation=\"relu\"),\n",
        "        keras.layers.Dropout(0.3),\n",
        "        keras.layers.Dense(1, activation=\"sigmoid\"),\n",
        "    ]\n",
        ")\n",
        "model_2.summary()"
      ]
    },
    {
      "cell_type": "code",
      "execution_count": null,
      "metadata": {
        "scrolled": true,
        "id": "nh70JdcwXYwd"
      },
      "outputs": [],
      "source": [
        "metrics = [\n",
        "    keras.metrics.Precision(name=\"precision\"),\n",
        "#     keras.metrics.Recall(name=\"recall\"),\n",
        "#     keras.metrics.Accuracy(name=\"accuracy\")\n",
        "]\n",
        "\n",
        "model_2.compile(\n",
        "    optimizer=keras.optimizers.Adam(1e-2), loss=\"binary_crossentropy\", metrics=metrics\n",
        ")\n",
        "\n",
        "\n",
        "\n",
        "history = model_2.fit(\n",
        "                    X_train,\n",
        "                    y_train,\n",
        "                    batch_size=2048,\n",
        "                    epochs=30,\n",
        "                    verbose=2,\n",
        "                    validation_split = 0.2,\n",
        "                    class_weight = {0: wt_0, 1: wt_1}\n",
        ")"
      ]
    },
    {
      "cell_type": "code",
      "execution_count": null,
      "metadata": {
        "id": "SmYzF0b-XYwe"
      },
      "outputs": [],
      "source": [
        "score = model_2.evaluate(X_test, y_test)\n"
      ]
    },
    {
      "cell_type": "markdown",
      "metadata": {
        "id": "hMgXU73sXYwe"
      },
      "source": [
        "#### Convolutional Neural Network using Keras with Metrics & Weights:"
      ]
    },
    {
      "cell_type": "code",
      "execution_count": null,
      "metadata": {
        "id": "09mgUJtfXYwe"
      },
      "outputs": [],
      "source": [
        "import keras\n",
        "from keras.models import Sequential\n",
        "from keras.layers import Conv1D, MaxPooling1D, Dense, Flatten, Dropout, BatchNormalization\n",
        "from keras.optimizers import Adam\n",
        "from keras.callbacks import TensorBoard"
      ]
    },
    {
      "cell_type": "code",
      "execution_count": null,
      "metadata": {
        "id": "QPSd4wJaXYwe"
      },
      "outputs": [],
      "source": [
        "X_train.shape[-1]"
      ]
    },
    {
      "cell_type": "code",
      "execution_count": null,
      "metadata": {
        "id": "GqoSVXSSXYwf"
      },
      "outputs": [],
      "source": [
        "X_test_d = np.expand_dims(X_test, -1)\n",
        "X_train_d  = np.expand_dims(X_train, -1)"
      ]
    },
    {
      "cell_type": "code",
      "execution_count": null,
      "metadata": {
        "id": "HaB3SemqXYwf"
      },
      "outputs": [],
      "source": [
        "X_test_d"
      ]
    },
    {
      "cell_type": "code",
      "execution_count": null,
      "metadata": {
        "id": "kTw5gJeWXYwg"
      },
      "outputs": [],
      "source": [
        "model_3 = Sequential()\n",
        "model_3.add(Conv1D(32, 2, activation='relu', input_shape=X_test_d[0].shape))\n",
        "model_3.add(BatchNormalization())\n",
        "model_3.add(Dropout(0.1))\n",
        "\n",
        "model_3.add(Conv1D(64, 2, activation='relu'))\n",
        "model_3.add(BatchNormalization())\n",
        "model_3.add(Dropout(0.2))\n",
        "\n",
        "model_3.add(Conv1D(128, 2, activation='relu'))\n",
        "model_3.add(BatchNormalization())\n",
        "model_3.add(Dropout(0.3))\n",
        "\n",
        "model_3.add(Flatten())\n",
        "model_3.add(Dropout(0.4))\n",
        "model_3.add(Dense(512, activation='relu'))\n",
        "model_3.add(Dropout(0.5))\n",
        "\n",
        "model_3.add(Dense(1, activation='sigmoid'))"
      ]
    },
    {
      "cell_type": "code",
      "execution_count": null,
      "metadata": {
        "id": "T8E8rKQQXYwg"
      },
      "outputs": [],
      "source": [
        "model_3.summary()"
      ]
    },
    {
      "cell_type": "code",
      "execution_count": null,
      "metadata": {
        "id": "RWViDUVXXYwg"
      },
      "outputs": [],
      "source": [
        "METRICS = [\n",
        "    'accuracy',\n",
        "    keras.metrics.Precision(name='precision'),\n",
        "    keras.metrics.Recall(name='recall')\n",
        "]\n",
        "\n",
        "model_3.compile(optimizer='adam', loss='binary_crossentropy', metrics=METRICS)\n",
        "history = model_3.fit(X_train_d, y_train, \n",
        "              validation_split=0.2,\n",
        "              batch_size=16, \n",
        "              epochs=20, \n",
        "             )"
      ]
    },
    {
      "cell_type": "code",
      "execution_count": null,
      "metadata": {
        "id": "sUhBuZ2_XYwh"
      },
      "outputs": [],
      "source": [
        "score = model.evaluate(X_test, y_test)\n",
        "score"
      ]
    },
    {
      "cell_type": "code",
      "execution_count": null,
      "metadata": {
        "id": "TfXuy_CZXYwh"
      },
      "outputs": [],
      "source": [
        "plt.figure(figsize=(12, 16))\n",
        "\n",
        "plt.subplot(4, 2, 1)\n",
        "plt.plot(history.history['loss'], label='Train Loss', linewidth=4)\n",
        "plt.plot(history.history['val_loss'], label='Val Loss', linewidth=4)\n",
        "plt.legend()\n",
        "plt.xticks(fontsize=15)\n",
        "plt.yticks(fontsize=15)\n",
        "plt.axvline(x=18, color=\"red\",linestyle='dashed', linewidth=1)\n",
        "\n",
        "\n",
        "plt.subplot(4, 2, 2)\n",
        "plt.plot(history.history['accuracy'], label='Train Accuracy', linewidth=4)\n",
        "plt.plot(history.history['val_accuracy'], label='Val Accuracy', linewidth=4)\n",
        "plt.legend()\n",
        "plt.xticks(fontsize=15)\n",
        "plt.yticks(fontsize=15)\n",
        "plt.axvline(x=18, color=\"red\",linestyle='dashed', linewidth=1)\n",
        "\n",
        "\n",
        "plt.subplot(4, 2, 3)\n",
        "plt.plot(history.history['precision'], label='Train Precision', linewidth=4)\n",
        "plt.plot(history.history['val_precision'], label='Val Precision', linewidth=4)\n",
        "plt.legend()\n",
        "plt.xticks(fontsize=15)\n",
        "plt.yticks(fontsize=15)\n",
        "plt.axvline(x=17.5, color=\"red\",linestyle='dashed', linewidth=1)\n",
        "\n",
        "plt.subplot(4, 2, 4)\n",
        "plt.plot(history.history['recall'], label='Train Recall', linewidth=4)\n",
        "plt.plot(history.history['val_recall'], label='Val Recall', linewidth=4)\n",
        "plt.legend()\n",
        "plt.xticks(fontsize=15)\n",
        "plt.yticks(fontsize=15)\n",
        "plt.axvline(x=17.5, color=\"red\",linestyle='dashed', linewidth=1)\n"
      ]
    },
    {
      "cell_type": "code",
      "execution_count": null,
      "metadata": {
        "id": "Qej2__XYXYwi"
      },
      "outputs": [],
      "source": [
        ""
      ]
    }
  ],
  "metadata": {
    "kernelspec": {
      "display_name": "Python 3 (ipykernel)",
      "language": "python",
      "name": "python3"
    },
    "language_info": {
      "codemirror_mode": {
        "name": "ipython",
        "version": 3
      },
      "file_extension": ".py",
      "mimetype": "text/x-python",
      "name": "python",
      "nbconvert_exporter": "python",
      "pygments_lexer": "ipython3",
      "version": "3.9.7"
    },
    "colab": {
      "name": "Credit Card Fraud & Anomaly Detection DWS 120821.ipynb",
      "provenance": [],
      "collapsed_sections": [
        "-v8U43xDXYwc",
        "hMgXU73sXYwe"
      ],
      "include_colab_link": true
    },
    "accelerator": "GPU"
  },
  "nbformat": 4,
  "nbformat_minor": 0
}